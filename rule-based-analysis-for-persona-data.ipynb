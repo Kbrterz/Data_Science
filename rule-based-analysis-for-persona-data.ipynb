{
 "cells": [
  {
   "cell_type": "markdown",
   "id": "620c90e0",
   "metadata": {
    "papermill": {
     "duration": 0.007729,
     "end_time": "2025-02-24T20:07:30.429461",
     "exception": false,
     "start_time": "2025-02-24T20:07:30.421732",
     "status": "completed"
    },
    "tags": []
   },
   "source": [
    "# PERSONA\n",
    "\n",
    "Persona.csv veriseti uluslararası bir oyun şirketinin sattığı ürünlerin fiyatlarını ve bu ürünleri satınalan kullanıcıların bazı demografik bilgilerini barındırmaktadır. \n",
    "\n",
    "#Veriseti her satış işleminde oluşan kayıtlardan meydana gelmektedir. Bunun anlamı tablo tekilleştirilmemiştir. Diğer bir ifade ile belirli demografik özelliklere sahip bir kullanıcı birden fazla alışveriş yapmış olabilir.\n",
    "\n",
    "DEĞİŞKENLER\n",
    "\n",
    "\n",
    "* PRICE\n",
    "* SOURCE\n",
    "* SEX\n",
    "* COUNTRY\n",
    "* AGE \n",
    "  "
   ]
  },
  {
   "cell_type": "code",
   "execution_count": 1,
   "id": "d0c58bbb",
   "metadata": {
    "_cell_guid": "b1076dfc-b9ad-4769-8c92-a6c4dae69d19",
    "_uuid": "8f2839f25d086af736a60e9eeb907d3b93b6e0e5",
    "execution": {
     "iopub.execute_input": "2025-02-24T20:07:30.444810Z",
     "iopub.status.busy": "2025-02-24T20:07:30.444423Z",
     "iopub.status.idle": "2025-02-24T20:07:34.023126Z",
     "shell.execute_reply": "2025-02-24T20:07:34.021971Z"
    },
    "papermill": {
     "duration": 3.588627,
     "end_time": "2025-02-24T20:07:34.025108",
     "exception": false,
     "start_time": "2025-02-24T20:07:30.436481",
     "status": "completed"
    },
    "tags": []
   },
   "outputs": [],
   "source": [
    "# import required libraries\n",
    "import pandas as pd\n",
    "import numpy as np\n",
    "import seaborn as sns\n",
    "import matplotlib.pyplot as plt\n",
    "import plotly.express as px\n",
    "import warnings\n",
    "warnings.simplefilter(action=\"ignore\")"
   ]
  },
  {
   "cell_type": "code",
   "execution_count": 2,
   "id": "a3d20fc0",
   "metadata": {
    "execution": {
     "iopub.execute_input": "2025-02-24T20:07:34.040259Z",
     "iopub.status.busy": "2025-02-24T20:07:34.039652Z",
     "iopub.status.idle": "2025-02-24T20:07:34.044652Z",
     "shell.execute_reply": "2025-02-24T20:07:34.043549Z"
    },
    "papermill": {
     "duration": 0.014386,
     "end_time": "2025-02-24T20:07:34.046277",
     "exception": false,
     "start_time": "2025-02-24T20:07:34.031891",
     "status": "completed"
    },
    "tags": []
   },
   "outputs": [],
   "source": [
    "# rows and columns settings\n",
    "pd.set_option(\"display.max_rows\", None)\n",
    "pd.set_option(\"display.max_columns\", None)\n",
    "pd.set_option(\"display.float_format\", lambda x: '%.2f' % x)"
   ]
  },
  {
   "cell_type": "code",
   "execution_count": 3,
   "id": "3023ac95",
   "metadata": {
    "execution": {
     "iopub.execute_input": "2025-02-24T20:07:34.060645Z",
     "iopub.status.busy": "2025-02-24T20:07:34.060316Z",
     "iopub.status.idle": "2025-02-24T20:07:34.087243Z",
     "shell.execute_reply": "2025-02-24T20:07:34.086156Z"
    },
    "papermill": {
     "duration": 0.036066,
     "end_time": "2025-02-24T20:07:34.088973",
     "exception": false,
     "start_time": "2025-02-24T20:07:34.052907",
     "status": "completed"
    },
    "tags": []
   },
   "outputs": [],
   "source": [
    "# loading the dataset\n",
    "df = pd.read_csv(\"/kaggle/input/persona/persona.csv\")"
   ]
  },
  {
   "cell_type": "code",
   "execution_count": 4,
   "id": "f4ac27f0",
   "metadata": {
    "execution": {
     "iopub.execute_input": "2025-02-24T20:07:34.103766Z",
     "iopub.status.busy": "2025-02-24T20:07:34.103414Z",
     "iopub.status.idle": "2025-02-24T20:07:34.127039Z",
     "shell.execute_reply": "2025-02-24T20:07:34.126083Z"
    },
    "papermill": {
     "duration": 0.032787,
     "end_time": "2025-02-24T20:07:34.128629",
     "exception": false,
     "start_time": "2025-02-24T20:07:34.095842",
     "status": "completed"
    },
    "tags": []
   },
   "outputs": [
    {
     "data": {
      "text/html": [
       "<div>\n",
       "<style scoped>\n",
       "    .dataframe tbody tr th:only-of-type {\n",
       "        vertical-align: middle;\n",
       "    }\n",
       "\n",
       "    .dataframe tbody tr th {\n",
       "        vertical-align: top;\n",
       "    }\n",
       "\n",
       "    .dataframe thead th {\n",
       "        text-align: right;\n",
       "    }\n",
       "</style>\n",
       "<table border=\"1\" class=\"dataframe\">\n",
       "  <thead>\n",
       "    <tr style=\"text-align: right;\">\n",
       "      <th></th>\n",
       "      <th>PRICE</th>\n",
       "      <th>SOURCE</th>\n",
       "      <th>SEX</th>\n",
       "      <th>COUNTRY</th>\n",
       "      <th>AGE</th>\n",
       "    </tr>\n",
       "  </thead>\n",
       "  <tbody>\n",
       "    <tr>\n",
       "      <th>0</th>\n",
       "      <td>39</td>\n",
       "      <td>android</td>\n",
       "      <td>male</td>\n",
       "      <td>bra</td>\n",
       "      <td>17</td>\n",
       "    </tr>\n",
       "    <tr>\n",
       "      <th>1</th>\n",
       "      <td>39</td>\n",
       "      <td>android</td>\n",
       "      <td>male</td>\n",
       "      <td>bra</td>\n",
       "      <td>17</td>\n",
       "    </tr>\n",
       "    <tr>\n",
       "      <th>2</th>\n",
       "      <td>49</td>\n",
       "      <td>android</td>\n",
       "      <td>male</td>\n",
       "      <td>bra</td>\n",
       "      <td>17</td>\n",
       "    </tr>\n",
       "    <tr>\n",
       "      <th>3</th>\n",
       "      <td>29</td>\n",
       "      <td>android</td>\n",
       "      <td>male</td>\n",
       "      <td>tur</td>\n",
       "      <td>17</td>\n",
       "    </tr>\n",
       "    <tr>\n",
       "      <th>4</th>\n",
       "      <td>49</td>\n",
       "      <td>android</td>\n",
       "      <td>male</td>\n",
       "      <td>tur</td>\n",
       "      <td>17</td>\n",
       "    </tr>\n",
       "  </tbody>\n",
       "</table>\n",
       "</div>"
      ],
      "text/plain": [
       "   PRICE   SOURCE   SEX COUNTRY  AGE\n",
       "0     39  android  male     bra   17\n",
       "1     39  android  male     bra   17\n",
       "2     49  android  male     bra   17\n",
       "3     29  android  male     tur   17\n",
       "4     49  android  male     tur   17"
      ]
     },
     "execution_count": 4,
     "metadata": {},
     "output_type": "execute_result"
    }
   ],
   "source": [
    "df.head()"
   ]
  },
  {
   "cell_type": "markdown",
   "id": "0dcf45f2",
   "metadata": {
    "papermill": {
     "duration": 0.006583,
     "end_time": "2025-02-24T20:07:34.142218",
     "exception": false,
     "start_time": "2025-02-24T20:07:34.135635",
     "status": "completed"
    },
    "tags": []
   },
   "source": [
    "# Exploratory Data Analysis**"
   ]
  },
  {
   "attachments": {
    "3237bbac-1415-4620-8c5d-973971f2a5da.gif": {
     "image/gif": "[encoded data removed]"
    }
   },
   "cell_type": "markdown",
   "id": "d1e52a18",
   "metadata": {
    "papermill": {
     "duration": 0.006224,
     "end_time": "2025-02-24T20:07:34.155006",
     "exception": false,
     "start_time": "2025-02-24T20:07:34.148782",
     "status": "completed"
    },
    "tags": []
   },
   "source": [
    "![Exploratory Data Analysis.gif](attachment:3237bbac-1415-4620-8c5d-973971f2a5da.gif)"
   ]
  },
  {
   "cell_type": "markdown",
   "id": "50a6ab56",
   "metadata": {
    "papermill": {
     "duration": 0.006537,
     "end_time": "2025-02-24T20:07:34.168164",
     "exception": false,
     "start_time": "2025-02-24T20:07:34.161627",
     "status": "completed"
    },
    "tags": []
   },
   "source": [
    "*#Exploratory data analysis is the initial stage of data analysis that focuses on discovering patterns, relationships, and trends in the data. EDA involves the use of visual and statistical methods to explore and summarize the data, and to generate hypotheses that can be further tested using more advanced statistical techniques.***"
   ]
  },
  {
   "cell_type": "code",
   "execution_count": 5,
   "id": "6e2a8713",
   "metadata": {
    "execution": {
     "iopub.execute_input": "2025-02-24T20:07:34.182857Z",
     "iopub.status.busy": "2025-02-24T20:07:34.182532Z",
     "iopub.status.idle": "2025-02-24T20:07:34.187842Z",
     "shell.execute_reply": "2025-02-24T20:07:34.186813Z"
    },
    "papermill": {
     "duration": 0.014556,
     "end_time": "2025-02-24T20:07:34.189536",
     "exception": false,
     "start_time": "2025-02-24T20:07:34.174980",
     "status": "completed"
    },
    "tags": []
   },
   "outputs": [],
   "source": [
    "# writing a function to look at the overall picture\n",
    "def check_df(dataframe, head=5):\n",
    "    print('##################### Shape #####################')\n",
    "    print(dataframe.shape)\n",
    "    print('##################### Types #####################')\n",
    "    print(dataframe.dtypes)\n",
    "    print('##################### Head #####################')\n",
    "    print(dataframe.head(head))\n",
    "    print('##################### Tail #####################')\n",
    "    print(dataframe.tail(head))\n",
    "    print('##################### NA #####################')\n",
    "    print(dataframe.isnull().sum())\n",
    "    print('##################### Quantiles #####################')\n",
    "    print(dataframe.describe([0, 0.05, 0.50, 0.95, 0.99, 1]).T)"
   ]
  },
  {
   "cell_type": "code",
   "execution_count": 6,
   "id": "425a75ae",
   "metadata": {
    "execution": {
     "iopub.execute_input": "2025-02-24T20:07:34.204079Z",
     "iopub.status.busy": "2025-02-24T20:07:34.203733Z",
     "iopub.status.idle": "2025-02-24T20:07:34.227746Z",
     "shell.execute_reply": "2025-02-24T20:07:34.226530Z"
    },
    "papermill": {
     "duration": 0.033172,
     "end_time": "2025-02-24T20:07:34.229537",
     "exception": false,
     "start_time": "2025-02-24T20:07:34.196365",
     "status": "completed"
    },
    "tags": []
   },
   "outputs": [
    {
     "name": "stdout",
     "output_type": "stream",
     "text": [
      "##################### Shape #####################\n",
      "(5000, 5)\n",
      "##################### Types #####################\n",
      "PRICE       int64\n",
      "SOURCE     object\n",
      "SEX        object\n",
      "COUNTRY    object\n",
      "AGE         int64\n",
      "dtype: object\n",
      "##################### Head #####################\n",
      "   PRICE   SOURCE   SEX COUNTRY  AGE\n",
      "0     39  android  male     bra   17\n",
      "1     39  android  male     bra   17\n",
      "2     49  android  male     bra   17\n",
      "3     29  android  male     tur   17\n",
      "4     49  android  male     tur   17\n",
      "##################### Tail #####################\n",
      "      PRICE   SOURCE     SEX COUNTRY  AGE\n",
      "4995     29  android  female     bra   31\n",
      "4996     29  android  female     bra   31\n",
      "4997     29  android  female     bra   31\n",
      "4998     39  android  female     bra   31\n",
      "4999     29  android  female     bra   31\n",
      "##################### NA #####################\n",
      "PRICE      0\n",
      "SOURCE     0\n",
      "SEX        0\n",
      "COUNTRY    0\n",
      "AGE        0\n",
      "dtype: int64\n",
      "##################### Quantiles #####################\n",
      "        count  mean   std   min    0%    5%   50%   95%   99%  100%   max\n",
      "PRICE 5000.00 34.13 12.46  9.00  9.00 19.00 39.00 49.00 59.00 59.00 59.00\n",
      "AGE   5000.00 23.58  9.00 15.00 15.00 15.00 21.00 43.00 53.00 66.00 66.00\n"
     ]
    }
   ],
   "source": [
    "check_df(df)"
   ]
  },
  {
   "cell_type": "code",
   "execution_count": 7,
   "id": "764c0cd6",
   "metadata": {
    "execution": {
     "iopub.execute_input": "2025-02-24T20:07:34.247771Z",
     "iopub.status.busy": "2025-02-24T20:07:34.247382Z",
     "iopub.status.idle": "2025-02-24T20:07:34.269648Z",
     "shell.execute_reply": "2025-02-24T20:07:34.268570Z"
    },
    "papermill": {
     "duration": 0.032905,
     "end_time": "2025-02-24T20:07:34.271555",
     "exception": false,
     "start_time": "2025-02-24T20:07:34.238650",
     "status": "completed"
    },
    "tags": []
   },
   "outputs": [],
   "source": [
    "# average price analysis\n",
    "agg_df = df.groupby([\"COUNTRY\", \"SOURCE\", \"SEX\", \"AGE\"]).agg({\"PRICE\": \"mean\"}).sort_values(\"PRICE\", ascending=False)\n"
   ]
  },
  {
   "cell_type": "code",
   "execution_count": 8,
   "id": "0792c6ae",
   "metadata": {
    "execution": {
     "iopub.execute_input": "2025-02-24T20:07:34.287103Z",
     "iopub.status.busy": "2025-02-24T20:07:34.286722Z",
     "iopub.status.idle": "2025-02-24T20:07:34.297430Z",
     "shell.execute_reply": "2025-02-24T20:07:34.296505Z"
    },
    "papermill": {
     "duration": 0.020093,
     "end_time": "2025-02-24T20:07:34.299104",
     "exception": false,
     "start_time": "2025-02-24T20:07:34.279011",
     "status": "completed"
    },
    "tags": []
   },
   "outputs": [
    {
     "data": {
      "text/html": [
       "<div>\n",
       "<style scoped>\n",
       "    .dataframe tbody tr th:only-of-type {\n",
       "        vertical-align: middle;\n",
       "    }\n",
       "\n",
       "    .dataframe tbody tr th {\n",
       "        vertical-align: top;\n",
       "    }\n",
       "\n",
       "    .dataframe thead th {\n",
       "        text-align: right;\n",
       "    }\n",
       "</style>\n",
       "<table border=\"1\" class=\"dataframe\">\n",
       "  <thead>\n",
       "    <tr style=\"text-align: right;\">\n",
       "      <th></th>\n",
       "      <th></th>\n",
       "      <th></th>\n",
       "      <th></th>\n",
       "      <th>PRICE</th>\n",
       "    </tr>\n",
       "    <tr>\n",
       "      <th>COUNTRY</th>\n",
       "      <th>SOURCE</th>\n",
       "      <th>SEX</th>\n",
       "      <th>AGE</th>\n",
       "      <th></th>\n",
       "    </tr>\n",
       "  </thead>\n",
       "  <tbody>\n",
       "    <tr>\n",
       "      <th>bra</th>\n",
       "      <th>android</th>\n",
       "      <th>male</th>\n",
       "      <th>46</th>\n",
       "      <td>59.00</td>\n",
       "    </tr>\n",
       "    <tr>\n",
       "      <th>usa</th>\n",
       "      <th>android</th>\n",
       "      <th>male</th>\n",
       "      <th>36</th>\n",
       "      <td>59.00</td>\n",
       "    </tr>\n",
       "    <tr>\n",
       "      <th>fra</th>\n",
       "      <th>android</th>\n",
       "      <th>female</th>\n",
       "      <th>24</th>\n",
       "      <td>59.00</td>\n",
       "    </tr>\n",
       "    <tr>\n",
       "      <th>usa</th>\n",
       "      <th>ios</th>\n",
       "      <th>male</th>\n",
       "      <th>32</th>\n",
       "      <td>54.00</td>\n",
       "    </tr>\n",
       "    <tr>\n",
       "      <th>deu</th>\n",
       "      <th>android</th>\n",
       "      <th>female</th>\n",
       "      <th>36</th>\n",
       "      <td>49.00</td>\n",
       "    </tr>\n",
       "  </tbody>\n",
       "</table>\n",
       "</div>"
      ],
      "text/plain": [
       "                            PRICE\n",
       "COUNTRY SOURCE  SEX    AGE       \n",
       "bra     android male   46   59.00\n",
       "usa     android male   36   59.00\n",
       "fra     android female 24   59.00\n",
       "usa     ios     male   32   54.00\n",
       "deu     android female 36   49.00"
      ]
     },
     "execution_count": 8,
     "metadata": {},
     "output_type": "execute_result"
    }
   ],
   "source": [
    "agg_df.head()"
   ]
  },
  {
   "cell_type": "code",
   "execution_count": 9,
   "id": "5365a7f7",
   "metadata": {
    "execution": {
     "iopub.execute_input": "2025-02-24T20:07:34.314297Z",
     "iopub.status.busy": "2025-02-24T20:07:34.313919Z",
     "iopub.status.idle": "2025-02-24T20:07:34.319665Z",
     "shell.execute_reply": "2025-02-24T20:07:34.318717Z"
    },
    "papermill": {
     "duration": 0.014952,
     "end_time": "2025-02-24T20:07:34.321154",
     "exception": false,
     "start_time": "2025-02-24T20:07:34.306202",
     "status": "completed"
    },
    "tags": []
   },
   "outputs": [
    {
     "data": {
      "text/plain": [
       "6"
      ]
     },
     "execution_count": 9,
     "metadata": {},
     "output_type": "execute_result"
    }
   ],
   "source": [
    "df[\"PRICE\"].nunique()"
   ]
  },
  {
   "cell_type": "code",
   "execution_count": 10,
   "id": "7522e3bd",
   "metadata": {
    "execution": {
     "iopub.execute_input": "2025-02-24T20:07:34.336407Z",
     "iopub.status.busy": "2025-02-24T20:07:34.336058Z",
     "iopub.status.idle": "2025-02-24T20:07:34.342391Z",
     "shell.execute_reply": "2025-02-24T20:07:34.341440Z"
    },
    "papermill": {
     "duration": 0.015678,
     "end_time": "2025-02-24T20:07:34.343869",
     "exception": false,
     "start_time": "2025-02-24T20:07:34.328191",
     "status": "completed"
    },
    "tags": []
   },
   "outputs": [],
   "source": [
    "# Converting the names in the index to variable names.\n",
    "agg_df = agg_df.reset_index()"
   ]
  },
  {
   "cell_type": "markdown",
   "id": "bdbe15ce",
   "metadata": {
    "papermill": {
     "duration": 0.006747,
     "end_time": "2025-02-24T20:07:34.357816",
     "exception": false,
     "start_time": "2025-02-24T20:07:34.351069",
     "status": "completed"
    },
    "tags": []
   },
   "source": [
    "# Analysis of Categorical variables"
   ]
  },
  {
   "cell_type": "code",
   "execution_count": 11,
   "id": "9fe949e6",
   "metadata": {
    "execution": {
     "iopub.execute_input": "2025-02-24T20:07:34.373104Z",
     "iopub.status.busy": "2025-02-24T20:07:34.372703Z",
     "iopub.status.idle": "2025-02-24T20:07:34.380267Z",
     "shell.execute_reply": "2025-02-24T20:07:34.379254Z"
    },
    "papermill": {
     "duration": 0.016976,
     "end_time": "2025-02-24T20:07:34.381750",
     "exception": false,
     "start_time": "2025-02-24T20:07:34.364774",
     "status": "completed"
    },
    "tags": []
   },
   "outputs": [],
   "source": [
    "def grab_col_names(dataframe, cat_th=10, car_th=20):\n",
    "    \"\"\"\n",
    "    Returns the names of categorical, numeric and categorical but cardinal variables in the data set.\n",
    "    Note Categorical variables include categorical variables with numeric appearance.\n",
    "    Parameters\n",
    "    ------\n",
    "         dataframe: dataframe\n",
    "                Dataframe to get variable names\n",
    "        cat_th: int, optional\n",
    "                class threshold for numeric but categorical variables\n",
    "        car_th: int, optinal\n",
    "                class threshold for categorical but cardinal variables\n",
    "    Returns\n",
    "    ------\n",
    "        cat_cols: list\n",
    "                Categorical variable list\n",
    "        num_cols: list\n",
    "                Numeric variable list\n",
    "        cat_but_car: list\n",
    "                List of cardinal variables with categorical view\n",
    "    Examples\n",
    "    ------\n",
    "        import seaborn as sns\n",
    "        df = sns.load_dataset(\"iris\")\n",
    "        print(grab_col_names(df))\n",
    "    Notes\n",
    "    ------\n",
    "        cat_cols + num_cols + cat_but_car = total number of variables\n",
    "        num_but_cat is inside cat_cols.\n",
    "        The sum of the 3 return lists equals the total number of variables: cat_cols + num_cols + cat_but_car = number of variables\n",
    "    \"\"\"\n",
    "\n",
    "    # cat_cols, cat_but_car\n",
    "    cat_cols = [col for col in dataframe.columns if dataframe[col].dtypes == 'O']\n",
    "    num_but_cat = [col for col in dataframe.columns if dataframe[col].nunique() < cat_th and\n",
    "                   dataframe[col].dtypes != 'O']\n",
    "    cat_but_car = [col for col in dataframe.columns if dataframe[col].nunique() > car_th and\n",
    "                   dataframe[col].dtypes == 'O']\n",
    "    cat_cols = cat_cols + num_but_cat\n",
    "    cat_cols = [col for col in cat_cols if col not in cat_but_car]\n",
    "\n",
    "    # num_cols\n",
    "    num_cols = [col for col in dataframe.columns if dataframe[col].dtypes != 'O']\n",
    "    num_cols = [col for col in num_cols if col not in num_but_cat]\n",
    "\n",
    "    print(f'Observations: {dataframe.shape[0]}')\n",
    "    print(f'Variables: {dataframe.shape[1]}')\n",
    "    print(f'cat_cols: {len(cat_cols)}')\n",
    "    print(f'num_cols: {len(num_cols)}')\n",
    "    print(f'cat_but_car: {len(cat_but_car)}')\n",
    "    print(f'num_but_cat: {len(num_but_cat)}')\n",
    "    return cat_cols, num_cols, cat_but_car, num_but_cat"
   ]
  },
  {
   "cell_type": "code",
   "execution_count": 12,
   "id": "d577f05d",
   "metadata": {
    "execution": {
     "iopub.execute_input": "2025-02-24T20:07:34.397348Z",
     "iopub.status.busy": "2025-02-24T20:07:34.396951Z",
     "iopub.status.idle": "2025-02-24T20:07:34.406315Z",
     "shell.execute_reply": "2025-02-24T20:07:34.405237Z"
    },
    "papermill": {
     "duration": 0.018846,
     "end_time": "2025-02-24T20:07:34.407988",
     "exception": false,
     "start_time": "2025-02-24T20:07:34.389142",
     "status": "completed"
    },
    "tags": []
   },
   "outputs": [
    {
     "name": "stdout",
     "output_type": "stream",
     "text": [
      "Observations: 5000\n",
      "Variables: 5\n",
      "cat_cols: 4\n",
      "num_cols: 1\n",
      "cat_but_car: 0\n",
      "num_but_cat: 1\n"
     ]
    }
   ],
   "source": [
    "cat_cols, num_cols, cat_but_car, num_but_cat = grab_col_names(df)"
   ]
  },
  {
   "cell_type": "code",
   "execution_count": 13,
   "id": "34c1cb67",
   "metadata": {
    "execution": {
     "iopub.execute_input": "2025-02-24T20:07:34.424127Z",
     "iopub.status.busy": "2025-02-24T20:07:34.423743Z",
     "iopub.status.idle": "2025-02-24T20:07:34.429374Z",
     "shell.execute_reply": "2025-02-24T20:07:34.428382Z"
    },
    "papermill": {
     "duration": 0.01536,
     "end_time": "2025-02-24T20:07:34.430837",
     "exception": false,
     "start_time": "2025-02-24T20:07:34.415477",
     "status": "completed"
    },
    "tags": []
   },
   "outputs": [
    {
     "data": {
      "text/plain": [
       "['SOURCE', 'SEX', 'COUNTRY', 'PRICE']"
      ]
     },
     "execution_count": 13,
     "metadata": {},
     "output_type": "execute_result"
    }
   ],
   "source": [
    "cat_cols"
   ]
  },
  {
   "cell_type": "code",
   "execution_count": 14,
   "id": "177413b9",
   "metadata": {
    "execution": {
     "iopub.execute_input": "2025-02-24T20:07:34.447439Z",
     "iopub.status.busy": "2025-02-24T20:07:34.447066Z",
     "iopub.status.idle": "2025-02-24T20:07:34.452555Z",
     "shell.execute_reply": "2025-02-24T20:07:34.451520Z"
    },
    "papermill": {
     "duration": 0.015115,
     "end_time": "2025-02-24T20:07:34.453968",
     "exception": false,
     "start_time": "2025-02-24T20:07:34.438853",
     "status": "completed"
    },
    "tags": []
   },
   "outputs": [
    {
     "data": {
      "text/plain": [
       "['AGE']"
      ]
     },
     "execution_count": 14,
     "metadata": {},
     "output_type": "execute_result"
    }
   ],
   "source": [
    "num_cols"
   ]
  },
  {
   "cell_type": "code",
   "execution_count": 15,
   "id": "51fdc591",
   "metadata": {
    "execution": {
     "iopub.execute_input": "2025-02-24T20:07:34.469560Z",
     "iopub.status.busy": "2025-02-24T20:07:34.469233Z",
     "iopub.status.idle": "2025-02-24T20:07:34.474549Z",
     "shell.execute_reply": "2025-02-24T20:07:34.473475Z"
    },
    "papermill": {
     "duration": 0.015014,
     "end_time": "2025-02-24T20:07:34.476162",
     "exception": false,
     "start_time": "2025-02-24T20:07:34.461148",
     "status": "completed"
    },
    "tags": []
   },
   "outputs": [
    {
     "data": {
      "text/plain": [
       "[]"
      ]
     },
     "execution_count": 15,
     "metadata": {},
     "output_type": "execute_result"
    }
   ],
   "source": [
    "cat_but_car"
   ]
  },
  {
   "cell_type": "code",
   "execution_count": 16,
   "id": "9882efba",
   "metadata": {
    "execution": {
     "iopub.execute_input": "2025-02-24T20:07:34.492958Z",
     "iopub.status.busy": "2025-02-24T20:07:34.492626Z",
     "iopub.status.idle": "2025-02-24T20:07:34.498165Z",
     "shell.execute_reply": "2025-02-24T20:07:34.497100Z"
    },
    "papermill": {
     "duration": 0.016499,
     "end_time": "2025-02-24T20:07:34.500206",
     "exception": false,
     "start_time": "2025-02-24T20:07:34.483707",
     "status": "completed"
    },
    "tags": []
   },
   "outputs": [
    {
     "data": {
      "text/plain": [
       "['PRICE']"
      ]
     },
     "execution_count": 16,
     "metadata": {},
     "output_type": "execute_result"
    }
   ],
   "source": [
    "num_but_cat"
   ]
  },
  {
   "cell_type": "markdown",
   "id": "773646b0",
   "metadata": {
    "papermill": {
     "duration": 0.007406,
     "end_time": "2025-02-24T20:07:34.515331",
     "exception": false,
     "start_time": "2025-02-24T20:07:34.507925",
     "status": "completed"
    },
    "tags": []
   },
   "source": [
    "# Categorical Variable Analysis"
   ]
  },
  {
   "cell_type": "code",
   "execution_count": 17,
   "id": "08cd1e3c",
   "metadata": {
    "execution": {
     "iopub.execute_input": "2025-02-24T20:07:34.531582Z",
     "iopub.status.busy": "2025-02-24T20:07:34.531223Z",
     "iopub.status.idle": "2025-02-24T20:07:35.260315Z",
     "shell.execute_reply": "2025-02-24T20:07:35.259320Z"
    },
    "papermill": {
     "duration": 0.739143,
     "end_time": "2025-02-24T20:07:35.261915",
     "exception": false,
     "start_time": "2025-02-24T20:07:34.522772",
     "status": "completed"
    },
    "tags": []
   },
   "outputs": [
    {
     "name": "stdout",
     "output_type": "stream",
     "text": [
      "         SOURCE  Ratio\n",
      "SOURCE                \n",
      "android    2974  59.48\n",
      "ios        2026  40.52\n",
      "##########################################\n"
     ]
    },
    {
     "data": {
      "image/png": "[encoded data removed]",
      "text/plain": [
       "<Figure size 640x480 with 1 Axes>"
      ]
     },
     "metadata": {},
     "output_type": "display_data"
    },
    {
     "name": "stdout",
     "output_type": "stream",
     "text": [
      "         SEX  Ratio\n",
      "SEX                \n",
      "female  2621  52.42\n",
      "male    2379  47.58\n",
      "##########################################\n"
     ]
    },
    {
     "data": {
      "image/png": "[encoded data removed]",
      "text/plain": [
       "<Figure size 640x480 with 1 Axes>"
      ]
     },
     "metadata": {},
     "output_type": "display_data"
    },
    {
     "name": "stdout",
     "output_type": "stream",
     "text": [
      "         COUNTRY  Ratio\n",
      "COUNTRY                \n",
      "usa         2065  41.30\n",
      "bra         1496  29.92\n",
      "deu          455   9.10\n",
      "tur          451   9.02\n",
      "fra          303   6.06\n",
      "can          230   4.60\n",
      "##########################################\n"
     ]
    },
    {
     "data": {
      "image/png": "[encoded data removed]",
      "text/plain": [
       "<Figure size 640x480 with 1 Axes>"
      ]
     },
     "metadata": {},
     "output_type": "display_data"
    },
    {
     "name": "stdout",
     "output_type": "stream",
     "text": [
      "       PRICE  Ratio\n",
      "PRICE              \n",
      "29      1305  26.10\n",
      "39      1260  25.20\n",
      "49      1031  20.62\n",
      "19       992  19.84\n",
      "59       212   4.24\n",
      "9        200   4.00\n",
      "##########################################\n"
     ]
    },
    {
     "data": {
      "image/png": "[encoded data removed]",
      "text/plain": [
       "<Figure size 640x480 with 1 Axes>"
      ]
     },
     "metadata": {},
     "output_type": "display_data"
    }
   ],
   "source": [
    "def cat_summary(dataframe, col_name, plot=False):\n",
    "    print(pd.DataFrame({col_name: dataframe[col_name].value_counts(),\n",
    "                        'Ratio': 100 * dataframe[col_name].value_counts() / len(dataframe)}))\n",
    "    print('##########################################')\n",
    "    if plot:\n",
    "        sns.countplot(x=dataframe[col_name], data=dataframe)\n",
    "        plt.show(block=True)\n",
    "\n",
    "for col in cat_cols:\n",
    "    cat_summary(df, col, plot=True)"
   ]
  },
  {
   "cell_type": "markdown",
   "id": "2f264361",
   "metadata": {
    "papermill": {
     "duration": 0.008806,
     "end_time": "2025-02-24T20:07:35.280196",
     "exception": false,
     "start_time": "2025-02-24T20:07:35.271390",
     "status": "completed"
    },
    "tags": []
   },
   "source": [
    "# Analysis of Numerical variables"
   ]
  },
  {
   "cell_type": "code",
   "execution_count": 18,
   "id": "605b698f",
   "metadata": {
    "execution": {
     "iopub.execute_input": "2025-02-24T20:07:35.299795Z",
     "iopub.status.busy": "2025-02-24T20:07:35.299406Z",
     "iopub.status.idle": "2025-02-24T20:07:35.559265Z",
     "shell.execute_reply": "2025-02-24T20:07:35.558332Z"
    },
    "papermill": {
     "duration": 0.27164,
     "end_time": "2025-02-24T20:07:35.560923",
     "exception": false,
     "start_time": "2025-02-24T20:07:35.289283",
     "status": "completed"
    },
    "tags": []
   },
   "outputs": [
    {
     "name": "stdout",
     "output_type": "stream",
     "text": [
      "count   5000.00\n",
      "mean      23.58\n",
      "std        9.00\n",
      "min       15.00\n",
      "5%        15.00\n",
      "10%       15.00\n",
      "20%       16.00\n",
      "30%       17.00\n",
      "40%       19.00\n",
      "50%       21.00\n",
      "60%       23.00\n",
      "70%       26.00\n",
      "80%       30.00\n",
      "90%       36.00\n",
      "95%       43.00\n",
      "99%       53.00\n",
      "max       66.00\n",
      "Name: AGE, dtype: float64\n"
     ]
    },
    {
     "data": {
      "image/png": "[encoded data removed]",
      "text/plain": [
       "<Figure size 640x480 with 1 Axes>"
      ]
     },
     "metadata": {},
     "output_type": "display_data"
    }
   ],
   "source": [
    "def num_summary(dataframe, numerical_col, plot=False):\n",
    "    quantiles = [0.05, 0.10, 0.20, 0.30, 0.40, 0.50, 0.60, 0.70, 0.80, 0.90, 0.95, 0.99]\n",
    "    print(dataframe[numerical_col].describe(quantiles).T)\n",
    "\n",
    "    if plot:\n",
    "        dataframe[numerical_col].hist(bins=20)\n",
    "        plt.xlabel(numerical_col)\n",
    "        plt.title(numerical_col)\n",
    "        plt.show(block=True)\n",
    "\n",
    "for col in num_cols:\n",
    "    num_summary(df, col, plot=True)"
   ]
  },
  {
   "cell_type": "markdown",
   "id": "8e9c4391",
   "metadata": {
    "papermill": {
     "duration": 0.00938,
     "end_time": "2025-02-24T20:07:35.580789",
     "exception": false,
     "start_time": "2025-02-24T20:07:35.571409",
     "status": "completed"
    },
    "tags": []
   },
   "source": [
    "# Analysis of Target Variables"
   ]
  },
  {
   "cell_type": "code",
   "execution_count": 19,
   "id": "c96119cf",
   "metadata": {
    "execution": {
     "iopub.execute_input": "2025-02-24T20:07:35.601586Z",
     "iopub.status.busy": "2025-02-24T20:07:35.601230Z",
     "iopub.status.idle": "2025-02-24T20:07:36.699610Z",
     "shell.execute_reply": "2025-02-24T20:07:36.698567Z"
    },
    "papermill": {
     "duration": 1.110651,
     "end_time": "2025-02-24T20:07:36.701041",
     "exception": false,
     "start_time": "2025-02-24T20:07:35.590390",
     "status": "completed"
    },
    "tags": []
   },
   "outputs": [
    {
     "name": "stdout",
     "output_type": "stream",
     "text": [
      "         TARGET_MEAN\n",
      "SOURCE              \n",
      "android        34.17\n",
      "ios            34.07\n",
      "\n",
      "\n"
     ]
    },
    {
     "data": {
      "image/png": "[encoded data removed]",
      "text/plain": [
       "<Figure size 640x480 with 1 Axes>"
      ]
     },
     "metadata": {},
     "output_type": "display_data"
    },
    {
     "name": "stdout",
     "output_type": "stream",
     "text": [
      "        TARGET_MEAN\n",
      "SEX                \n",
      "female        33.95\n",
      "male          34.33\n",
      "\n",
      "\n"
     ]
    },
    {
     "data": {
      "image/png": "[encoded data removed]",
      "text/plain": [
       "<Figure size 640x480 with 1 Axes>"
      ]
     },
     "metadata": {},
     "output_type": "display_data"
    },
    {
     "name": "stdout",
     "output_type": "stream",
     "text": [
      "         TARGET_MEAN\n",
      "COUNTRY             \n",
      "bra            34.33\n",
      "can            33.61\n",
      "deu            34.03\n",
      "fra            33.59\n",
      "tur            34.79\n",
      "usa            34.01\n",
      "\n",
      "\n"
     ]
    },
    {
     "data": {
      "image/png": "[encoded data removed]",
      "text/plain": [
       "<Figure size 640x480 with 1 Axes>"
      ]
     },
     "metadata": {},
     "output_type": "display_data"
    },
    {
     "name": "stdout",
     "output_type": "stream",
     "text": [
      "       TARGET_MEAN\n",
      "PRICE             \n",
      "9             9.00\n",
      "19           19.00\n",
      "29           29.00\n",
      "39           39.00\n",
      "49           49.00\n",
      "59           59.00\n",
      "\n",
      "\n"
     ]
    },
    {
     "data": {
      "image/png": "[encoded data removed]",
      "text/plain": [
       "<Figure size 640x480 with 1 Axes>"
      ]
     },
     "metadata": {},
     "output_type": "display_data"
    }
   ],
   "source": [
    "def target_summary_with_cat(dataframe, target, categorical_col, plot=False):\n",
    "    print(pd.DataFrame({'TARGET_MEAN': dataframe.groupby(categorical_col)[target].mean()}), end='\\n\\n\\n')\n",
    "    if plot:\n",
    "        sns.barplot(x=categorical_col, y=target, data=dataframe)\n",
    "        plt.show(block=True)\n",
    "\n",
    "for col in cat_cols:\n",
    "    target_summary_with_cat(df, 'PRICE', col, plot=True)"
   ]
  },
  {
   "cell_type": "code",
   "execution_count": null,
   "id": "8df64ef1",
   "metadata": {
    "papermill": {
     "duration": 0.010671,
     "end_time": "2025-02-24T20:07:36.723268",
     "exception": false,
     "start_time": "2025-02-24T20:07:36.712597",
     "status": "completed"
    },
    "tags": []
   },
   "outputs": [],
   "source": []
  }
 ],
 "metadata": {
  "kaggle": {
   "accelerator": "none",
   "dataSources": [
    {
     "datasetId": 6728151,
     "sourceId": 10834514,
     "sourceType": "datasetVersion"
    },
    {
     "datasetId": 6728224,
     "sourceId": 10834621,
     "sourceType": "datasetVersion"
    },
    {
     "datasetId": 6734464,
     "sourceId": 10843806,
     "sourceType": "datasetVersion"
    }
   ],
   "dockerImageVersionId": 30918,
   "isGpuEnabled": false,
   "isInternetEnabled": true,
   "language": "python",
   "sourceType": "notebook"
  },
  "kernelspec": {
   "display_name": "Python 3",
   "language": "python",
   "name": "python3"
  },
  "language_info": {
   "codemirror_mode": {
    "name": "ipython",
    "version": 3
   },
   "file_extension": ".py",
   "mimetype": "text/x-python",
   "name": "python",
   "nbconvert_exporter": "python",
   "pygments_lexer": "ipython3",
   "version": "3.10.12"
  },
  "papermill": {
   "default_parameters": {},
   "duration": 9.820285,
   "end_time": "2025-02-24T20:07:37.455663",
   "environment_variables": {},
   "exception": null,
   "input_path": "__notebook__.ipynb",
   "output_path": "__notebook__.ipynb",
   "parameters": {},
   "start_time": "2025-02-24T20:07:27.635378",
   "version": "2.6.0"
  }
 },
 "nbformat": 4,
 "nbformat_minor": 5
}
