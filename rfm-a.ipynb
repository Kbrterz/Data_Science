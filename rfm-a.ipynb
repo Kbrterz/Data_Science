{
 "cells": [
  {
   "cell_type": "markdown",
   "id": "2c9fcf00",
   "metadata": {
    "_cell_guid": "7a0bb1c1-2dfe-42a1-9624-59205347688b",
    "_uuid": "49b3e153-6c36-44cf-be32-857a8e0393ae",
    "collapsed": false,
    "jupyter": {
     "outputs_hidden": false
    },
    "papermill": {
     "duration": 0.010793,
     "end_time": "2025-02-09T21:36:14.797413",
     "exception": false,
     "start_time": "2025-02-09T21:36:14.786620",
     "status": "completed"
    },
    "tags": []
   },
   "source": [
    "\n",
    "\n",
    "# RFM ANALYSIS\n",
    "\n",
    "\n",
    "\n",
    "*Business Problem:*\n",
    "\n",
    "A COMPANY wants to divide its customers into segments and determine marketing strategies according to these segments. To this end, customer behaviors will be defined and groups will be created according to these behavior clusters.\n",
    "\n",
    "*The Data Set Story*\n",
    "**\n",
    "The dataset consists of information obtained from the past shopping behavior of customers who made their last purchases as OmniChannel (both online and offline shopping) between 2009-2010 and 2010-2011.\n",
    "\n",
    "**Features in the Dataset*\n",
    "\n",
    "1. InvoiceNo: Invoice number.\n",
    "2. Unique number for each transaction, i.e. invoice. If it starts with C, the canceled transaction.\n",
    "3. StockCode: Product code. Unique number for each product.\n",
    "4. Description:\n",
    "5. Product name.\n",
    "6. Quantity: This is the quantity of the product. It expresses how many of the products in the invoices were sold.\n",
    "7. InvoiceDate: Invoice date and time.\n",
    "8. UnitPrice: Product price (in pounds sterling).\n",
    "9. CustomerID: Unique customer number.\n",
    "10. Country: Country name. The country where the customer lives.\n"
   ]
  },
  {
   "cell_type": "code",
   "execution_count": 1,
   "id": "0626ddce",
   "metadata": {
    "execution": {
     "iopub.execute_input": "2025-02-09T21:36:14.816214Z",
     "iopub.status.busy": "2025-02-09T21:36:14.815799Z",
     "iopub.status.idle": "2025-02-09T21:36:17.540203Z",
     "shell.execute_reply": "2025-02-09T21:36:17.539196Z"
    },
    "papermill": {
     "duration": 2.73565,
     "end_time": "2025-02-09T21:36:17.542084",
     "exception": false,
     "start_time": "2025-02-09T21:36:14.806434",
     "status": "completed"
    },
    "tags": []
   },
   "outputs": [],
   "source": [
    "# Import Libraries\n",
    "import datetime as dt\n",
    "import pandas as pd\n",
    "import matplotlib.pyplot as plt\n",
    "import seaborn as sns\n",
    "pd.set_option('display.float_format', lambda x: '%.3f' % x)"
   ]
  },
  {
   "cell_type": "markdown",
   "id": "4c56c87a",
   "metadata": {
    "papermill": {
     "duration": 0.008348,
     "end_time": "2025-02-09T21:36:17.559973",
     "exception": false,
     "start_time": "2025-02-09T21:36:17.551625",
     "status": "completed"
    },
    "tags": []
   },
   "source": [
    "# Adjusting Row Column Settings"
   ]
  },
  {
   "cell_type": "code",
   "execution_count": 2,
   "id": "bf78a844",
   "metadata": {
    "execution": {
     "iopub.execute_input": "2025-02-09T21:36:17.579041Z",
     "iopub.status.busy": "2025-02-09T21:36:17.578484Z",
     "iopub.status.idle": "2025-02-09T21:36:17.583479Z",
     "shell.execute_reply": "2025-02-09T21:36:17.582259Z"
    },
    "papermill": {
     "duration": 0.016407,
     "end_time": "2025-02-09T21:36:17.585207",
     "exception": false,
     "start_time": "2025-02-09T21:36:17.568800",
     "status": "completed"
    },
    "tags": []
   },
   "outputs": [],
   "source": [
    "pd.set_option(\"display.max_rows\", None)\n",
    "pd.set_option(\"display.max_columns\", None)\n",
    "pd.set_option(\"display.float_format\", lambda x: '%.2f' % x)"
   ]
  },
  {
   "cell_type": "code",
   "execution_count": 3,
   "id": "123b715c",
   "metadata": {
    "execution": {
     "iopub.execute_input": "2025-02-09T21:36:17.604651Z",
     "iopub.status.busy": "2025-02-09T21:36:17.604275Z",
     "iopub.status.idle": "2025-02-09T21:37:15.609176Z",
     "shell.execute_reply": "2025-02-09T21:37:15.608115Z"
    },
    "papermill": {
     "duration": 58.01671,
     "end_time": "2025-02-09T21:37:15.611314",
     "exception": false,
     "start_time": "2025-02-09T21:36:17.594604",
     "status": "completed"
    },
    "tags": []
   },
   "outputs": [],
   "source": [
    "df = pd.read_excel(\"/kaggle/input/rfm-analysis/online_retail_II.xlsx\")\n"
   ]
  },
  {
   "cell_type": "markdown",
   "id": "b824a87a",
   "metadata": {
    "papermill": {
     "duration": 0.008168,
     "end_time": "2025-02-09T21:37:15.628638",
     "exception": false,
     "start_time": "2025-02-09T21:37:15.620470",
     "status": "completed"
    },
    "tags": []
   },
   "source": [
    "# Loading the Data Set"
   ]
  },
  {
   "cell_type": "code",
   "execution_count": 4,
   "id": "2c83983a",
   "metadata": {
    "execution": {
     "iopub.execute_input": "2025-02-09T21:37:15.646737Z",
     "iopub.status.busy": "2025-02-09T21:37:15.646249Z",
     "iopub.status.idle": "2025-02-09T21:37:15.652960Z",
     "shell.execute_reply": "2025-02-09T21:37:15.651938Z"
    },
    "papermill": {
     "duration": 0.01763,
     "end_time": "2025-02-09T21:37:15.654584",
     "exception": false,
     "start_time": "2025-02-09T21:37:15.636954",
     "status": "completed"
    },
    "tags": []
   },
   "outputs": [
    {
     "data": {
      "text/plain": [
       "(525461, 8)"
      ]
     },
     "execution_count": 4,
     "metadata": {},
     "output_type": "execute_result"
    }
   ],
   "source": [
    "df.shape"
   ]
  },
  {
   "cell_type": "markdown",
   "id": "2270aa9c",
   "metadata": {
    "papermill": {
     "duration": 0.008131,
     "end_time": "2025-02-09T21:37:15.671515",
     "exception": false,
     "start_time": "2025-02-09T21:37:15.663384",
     "status": "completed"
    },
    "tags": []
   },
   "source": [
    "# Explanatory Data Analysis-EDA"
   ]
  },
  {
   "cell_type": "code",
   "execution_count": 5,
   "id": "85823a7e",
   "metadata": {
    "execution": {
     "iopub.execute_input": "2025-02-09T21:37:15.690144Z",
     "iopub.status.busy": "2025-02-09T21:37:15.689688Z",
     "iopub.status.idle": "2025-02-09T21:37:15.805043Z",
     "shell.execute_reply": "2025-02-09T21:37:15.804072Z"
    },
    "papermill": {
     "duration": 0.126565,
     "end_time": "2025-02-09T21:37:15.806860",
     "exception": false,
     "start_time": "2025-02-09T21:37:15.680295",
     "status": "completed"
    },
    "tags": []
   },
   "outputs": [],
   "source": [
    "def check_df(dataframe, head=10):\n",
    "    print(\"##################### Shape #####################\")\n",
    "    print(dataframe.shape)\n",
    "    print(\"##################### Columns #####################\")\n",
    "    print(dataframe.columns)\n",
    "    print(\"##################### Types #####################\")\n",
    "    print(dataframe.dtypes)\n",
    "    print(\"##################### Head #####################\")\n",
    "    print(dataframe.head(head))\n",
    "    print(\"##################### Tail #####################\")\n",
    "    print(dataframe.tail(head))\n",
    "    print(\"##################### NA #####################\")\n",
    "    print(dataframe.isnull().sum())\n",
    "    print(\"##################### Quantiles #####################\")\n",
    "    print(dataframe.describe([0, 0.05, 0.50, 0.95, 0.99, 1]).T)"
   ]
  },
  {
   "cell_type": "code",
   "execution_count": 6,
   "id": "684bda53",
   "metadata": {
    "execution": {
     "iopub.execute_input": "2025-02-09T21:37:15.825812Z",
     "iopub.status.busy": "2025-02-09T21:37:15.825472Z",
     "iopub.status.idle": "2025-02-09T21:37:16.045255Z",
     "shell.execute_reply": "2025-02-09T21:37:16.044073Z"
    },
    "papermill": {
     "duration": 0.230984,
     "end_time": "2025-02-09T21:37:16.046903",
     "exception": false,
     "start_time": "2025-02-09T21:37:15.815919",
     "status": "completed"
    },
    "tags": []
   },
   "outputs": [
    {
     "name": "stdout",
     "output_type": "stream",
     "text": [
      "##################### Shape #####################\n",
      "(525461, 8)\n",
      "##################### Columns #####################\n",
      "Index(['Invoice', 'StockCode', 'Description', 'Quantity', 'InvoiceDate',\n",
      "       'Price', 'Customer ID', 'Country'],\n",
      "      dtype='object')\n",
      "##################### Types #####################\n",
      "Invoice                object\n",
      "StockCode              object\n",
      "Description            object\n",
      "Quantity                int64\n",
      "InvoiceDate    datetime64[ns]\n",
      "Price                 float64\n",
      "Customer ID           float64\n",
      "Country                object\n",
      "dtype: object\n",
      "##################### Head #####################\n",
      "  Invoice StockCode                          Description  Quantity  \\\n",
      "0  489434     85048  15CM CHRISTMAS GLASS BALL 20 LIGHTS        12   \n",
      "1  489434    79323P                   PINK CHERRY LIGHTS        12   \n",
      "2  489434    79323W                  WHITE CHERRY LIGHTS        12   \n",
      "3  489434     22041         RECORD FRAME 7\" SINGLE SIZE         48   \n",
      "4  489434     21232       STRAWBERRY CERAMIC TRINKET BOX        24   \n",
      "5  489434     22064           PINK DOUGHNUT TRINKET POT         24   \n",
      "6  489434     21871                  SAVE THE PLANET MUG        24   \n",
      "7  489434     21523   FANCY FONT HOME SWEET HOME DOORMAT        10   \n",
      "8  489435     22350                            CAT BOWL         12   \n",
      "9  489435     22349       DOG BOWL , CHASING BALL DESIGN        12   \n",
      "\n",
      "          InvoiceDate  Price  Customer ID         Country  \n",
      "0 2009-12-01 07:45:00   6.95     13085.00  United Kingdom  \n",
      "1 2009-12-01 07:45:00   6.75     13085.00  United Kingdom  \n",
      "2 2009-12-01 07:45:00   6.75     13085.00  United Kingdom  \n",
      "3 2009-12-01 07:45:00   2.10     13085.00  United Kingdom  \n",
      "4 2009-12-01 07:45:00   1.25     13085.00  United Kingdom  \n",
      "5 2009-12-01 07:45:00   1.65     13085.00  United Kingdom  \n",
      "6 2009-12-01 07:45:00   1.25     13085.00  United Kingdom  \n",
      "7 2009-12-01 07:45:00   5.95     13085.00  United Kingdom  \n",
      "8 2009-12-01 07:46:00   2.55     13085.00  United Kingdom  \n",
      "9 2009-12-01 07:46:00   3.75     13085.00  United Kingdom  \n",
      "##################### Tail #####################\n",
      "       Invoice StockCode                         Description  Quantity  \\\n",
      "525451  538171     22748           POPPY'S PLAYHOUSE KITCHEN         2   \n",
      "525452  538171     22745          POPPY'S PLAYHOUSE BEDROOM          2   \n",
      "525453  538171     22558     CLOTHES PEGS RETROSPOT PACK 24          4   \n",
      "525454  538171     21671        RED SPOT CERAMIC DRAWER KNOB         6   \n",
      "525455  538171     20971    PINK BLUE FELT CRAFT TRINKET BOX         2   \n",
      "525456  538171     22271                FELTCRAFT DOLL ROSIE         2   \n",
      "525457  538171     22750        FELTCRAFT PRINCESS LOLA DOLL         1   \n",
      "525458  538171     22751      FELTCRAFT PRINCESS OLIVIA DOLL         1   \n",
      "525459  538171     20970  PINK FLORAL FELTCRAFT SHOULDER BAG         2   \n",
      "525460  538171     21931              JUMBO STORAGE BAG SUKI         2   \n",
      "\n",
      "               InvoiceDate  Price  Customer ID         Country  \n",
      "525451 2010-12-09 20:01:00   2.10     17530.00  United Kingdom  \n",
      "525452 2010-12-09 20:01:00   2.10     17530.00  United Kingdom  \n",
      "525453 2010-12-09 20:01:00   1.49     17530.00  United Kingdom  \n",
      "525454 2010-12-09 20:01:00   1.25     17530.00  United Kingdom  \n",
      "525455 2010-12-09 20:01:00   1.25     17530.00  United Kingdom  \n",
      "525456 2010-12-09 20:01:00   2.95     17530.00  United Kingdom  \n",
      "525457 2010-12-09 20:01:00   3.75     17530.00  United Kingdom  \n",
      "525458 2010-12-09 20:01:00   3.75     17530.00  United Kingdom  \n",
      "525459 2010-12-09 20:01:00   3.75     17530.00  United Kingdom  \n",
      "525460 2010-12-09 20:01:00   1.95     17530.00  United Kingdom  \n",
      "##################### NA #####################\n",
      "Invoice             0\n",
      "StockCode           0\n",
      "Description      2928\n",
      "Quantity            0\n",
      "InvoiceDate         0\n",
      "Price               0\n",
      "Customer ID    107927\n",
      "Country             0\n",
      "dtype: int64\n",
      "##################### Quantiles #####################\n",
      "                count                           mean                  min  \\\n",
      "Quantity    525461.00                          10.34             -9600.00   \n",
      "InvoiceDate    525461  2010-06-28 11:37:36.845017856  2009-12-01 07:45:00   \n",
      "Price       525461.00                           4.69            -53594.36   \n",
      "Customer ID 417534.00                       15360.65             12346.00   \n",
      "\n",
      "                              0%                   5%                  50%  \\\n",
      "Quantity                -9600.00                 1.00                 3.00   \n",
      "InvoiceDate  2009-12-01 07:45:00  2009-12-13 10:48:00  2010-07-06 09:51:00   \n",
      "Price                  -53594.36                 0.42                 2.10   \n",
      "Customer ID             12346.00             12725.00             15311.00   \n",
      "\n",
      "                             95%                  99%                 100%  \\\n",
      "Quantity                   30.00               120.00             19152.00   \n",
      "InvoiceDate  2010-11-29 15:18:00  2010-12-08 10:40:00  2010-12-09 20:01:00   \n",
      "Price                      10.17                19.95             25111.09   \n",
      "Customer ID             17913.00             18196.00             18287.00   \n",
      "\n",
      "                             max     std  \n",
      "Quantity                19152.00  107.42  \n",
      "InvoiceDate  2010-12-09 20:01:00     NaN  \n",
      "Price                   25111.09  146.13  \n",
      "Customer ID             18287.00 1680.81  \n"
     ]
    }
   ],
   "source": [
    "check_df(df)"
   ]
  },
  {
   "cell_type": "code",
   "execution_count": 7,
   "id": "330474b3",
   "metadata": {
    "_cell_guid": "0b7cc317-7c83-447d-95a6-84277f4cc6aa",
    "_uuid": "9031ef80-3ce9-413c-b93c-8485e43a6329",
    "collapsed": false,
    "execution": {
     "iopub.execute_input": "2025-02-09T21:37:16.066365Z",
     "iopub.status.busy": "2025-02-09T21:37:16.065962Z",
     "iopub.status.idle": "2025-02-09T21:37:16.078819Z",
     "shell.execute_reply": "2025-02-09T21:37:16.077656Z"
    },
    "jupyter": {
     "outputs_hidden": false
    },
    "papermill": {
     "duration": 0.024408,
     "end_time": "2025-02-09T21:37:16.080585",
     "exception": false,
     "start_time": "2025-02-09T21:37:16.056177",
     "status": "completed"
    },
    "tags": []
   },
   "outputs": [
    {
     "data": {
      "text/html": [
       "<div>\n",
       "<style scoped>\n",
       "    .dataframe tbody tr th:only-of-type {\n",
       "        vertical-align: middle;\n",
       "    }\n",
       "\n",
       "    .dataframe tbody tr th {\n",
       "        vertical-align: top;\n",
       "    }\n",
       "\n",
       "    .dataframe thead th {\n",
       "        text-align: right;\n",
       "    }\n",
       "</style>\n",
       "<table border=\"1\" class=\"dataframe\">\n",
       "  <thead>\n",
       "    <tr style=\"text-align: right;\">\n",
       "      <th></th>\n",
       "      <th>Invoice</th>\n",
       "      <th>StockCode</th>\n",
       "      <th>Description</th>\n",
       "      <th>Quantity</th>\n",
       "      <th>InvoiceDate</th>\n",
       "      <th>Price</th>\n",
       "      <th>Customer ID</th>\n",
       "      <th>Country</th>\n",
       "    </tr>\n",
       "  </thead>\n",
       "  <tbody>\n",
       "    <tr>\n",
       "      <th>0</th>\n",
       "      <td>489434</td>\n",
       "      <td>85048</td>\n",
       "      <td>15CM CHRISTMAS GLASS BALL 20 LIGHTS</td>\n",
       "      <td>12</td>\n",
       "      <td>2009-12-01 07:45:00</td>\n",
       "      <td>6.95</td>\n",
       "      <td>13085.00</td>\n",
       "      <td>United Kingdom</td>\n",
       "    </tr>\n",
       "    <tr>\n",
       "      <th>1</th>\n",
       "      <td>489434</td>\n",
       "      <td>79323P</td>\n",
       "      <td>PINK CHERRY LIGHTS</td>\n",
       "      <td>12</td>\n",
       "      <td>2009-12-01 07:45:00</td>\n",
       "      <td>6.75</td>\n",
       "      <td>13085.00</td>\n",
       "      <td>United Kingdom</td>\n",
       "    </tr>\n",
       "    <tr>\n",
       "      <th>2</th>\n",
       "      <td>489434</td>\n",
       "      <td>79323W</td>\n",
       "      <td>WHITE CHERRY LIGHTS</td>\n",
       "      <td>12</td>\n",
       "      <td>2009-12-01 07:45:00</td>\n",
       "      <td>6.75</td>\n",
       "      <td>13085.00</td>\n",
       "      <td>United Kingdom</td>\n",
       "    </tr>\n",
       "    <tr>\n",
       "      <th>3</th>\n",
       "      <td>489434</td>\n",
       "      <td>22041</td>\n",
       "      <td>RECORD FRAME 7\" SINGLE SIZE</td>\n",
       "      <td>48</td>\n",
       "      <td>2009-12-01 07:45:00</td>\n",
       "      <td>2.10</td>\n",
       "      <td>13085.00</td>\n",
       "      <td>United Kingdom</td>\n",
       "    </tr>\n",
       "    <tr>\n",
       "      <th>4</th>\n",
       "      <td>489434</td>\n",
       "      <td>21232</td>\n",
       "      <td>STRAWBERRY CERAMIC TRINKET BOX</td>\n",
       "      <td>24</td>\n",
       "      <td>2009-12-01 07:45:00</td>\n",
       "      <td>1.25</td>\n",
       "      <td>13085.00</td>\n",
       "      <td>United Kingdom</td>\n",
       "    </tr>\n",
       "  </tbody>\n",
       "</table>\n",
       "</div>"
      ],
      "text/plain": [
       "  Invoice StockCode                          Description  Quantity  \\\n",
       "0  489434     85048  15CM CHRISTMAS GLASS BALL 20 LIGHTS        12   \n",
       "1  489434    79323P                   PINK CHERRY LIGHTS        12   \n",
       "2  489434    79323W                  WHITE CHERRY LIGHTS        12   \n",
       "3  489434     22041         RECORD FRAME 7\" SINGLE SIZE         48   \n",
       "4  489434     21232       STRAWBERRY CERAMIC TRINKET BOX        24   \n",
       "\n",
       "          InvoiceDate  Price  Customer ID         Country  \n",
       "0 2009-12-01 07:45:00   6.95     13085.00  United Kingdom  \n",
       "1 2009-12-01 07:45:00   6.75     13085.00  United Kingdom  \n",
       "2 2009-12-01 07:45:00   6.75     13085.00  United Kingdom  \n",
       "3 2009-12-01 07:45:00   2.10     13085.00  United Kingdom  \n",
       "4 2009-12-01 07:45:00   1.25     13085.00  United Kingdom  "
      ]
     },
     "execution_count": 7,
     "metadata": {},
     "output_type": "execute_result"
    }
   ],
   "source": [
    "df.head()"
   ]
  },
  {
   "cell_type": "code",
   "execution_count": 8,
   "id": "f8bdb128",
   "metadata": {
    "_cell_guid": "ed1d445d-7b6f-4407-ad90-c482fde9be83",
    "_uuid": "424ad16d-b597-461f-929c-b1397a2ac944",
    "collapsed": false,
    "execution": {
     "iopub.execute_input": "2025-02-09T21:37:16.101773Z",
     "iopub.status.busy": "2025-02-09T21:37:16.101451Z",
     "iopub.status.idle": "2025-02-09T21:37:16.106884Z",
     "shell.execute_reply": "2025-02-09T21:37:16.105849Z"
    },
    "jupyter": {
     "outputs_hidden": false
    },
    "papermill": {
     "duration": 0.018563,
     "end_time": "2025-02-09T21:37:16.108730",
     "exception": false,
     "start_time": "2025-02-09T21:37:16.090167",
     "status": "completed"
    },
    "tags": []
   },
   "outputs": [
    {
     "data": {
      "text/plain": [
       "(525461, 8)"
      ]
     },
     "execution_count": 8,
     "metadata": {},
     "output_type": "execute_result"
    }
   ],
   "source": [
    "df.shape"
   ]
  },
  {
   "cell_type": "code",
   "execution_count": 9,
   "id": "4a67014d",
   "metadata": {
    "_cell_guid": "fd9aced6-b79e-4943-848a-d1229c022a41",
    "_uuid": "ec73ebd2-67e8-4b38-9a29-21330854cc29",
    "collapsed": false,
    "execution": {
     "iopub.execute_input": "2025-02-09T21:37:16.128823Z",
     "iopub.status.busy": "2025-02-09T21:37:16.128501Z",
     "iopub.status.idle": "2025-02-09T21:37:16.169974Z",
     "shell.execute_reply": "2025-02-09T21:37:16.169000Z"
    },
    "jupyter": {
     "outputs_hidden": false
    },
    "papermill": {
     "duration": 0.053658,
     "end_time": "2025-02-09T21:37:16.171955",
     "exception": false,
     "start_time": "2025-02-09T21:37:16.118297",
     "status": "completed"
    },
    "tags": []
   },
   "outputs": [],
   "source": [
    "df = df[(df['Quantity'] > 0)]"
   ]
  },
  {
   "cell_type": "code",
   "execution_count": 10,
   "id": "d76db4f0",
   "metadata": {
    "_cell_guid": "62b17518-639c-4c61-b999-1ec473648110",
    "_uuid": "3715b1c4-4398-44fc-a300-81b6461365cc",
    "collapsed": false,
    "execution": {
     "iopub.execute_input": "2025-02-09T21:37:16.192552Z",
     "iopub.status.busy": "2025-02-09T21:37:16.192179Z",
     "iopub.status.idle": "2025-02-09T21:37:16.339492Z",
     "shell.execute_reply": "2025-02-09T21:37:16.338426Z"
    },
    "jupyter": {
     "outputs_hidden": false
    },
    "papermill": {
     "duration": 0.15981,
     "end_time": "2025-02-09T21:37:16.341544",
     "exception": false,
     "start_time": "2025-02-09T21:37:16.181734",
     "status": "completed"
    },
    "tags": []
   },
   "outputs": [],
   "source": [
    "df.dropna(inplace=True)"
   ]
  },
  {
   "cell_type": "code",
   "execution_count": 11,
   "id": "f32749e7",
   "metadata": {
    "_cell_guid": "15d611cc-6d68-4f22-82d3-e43fdbf8e0f2",
    "_uuid": "2aa86f2a-2790-4901-b0cf-b5674d08829b",
    "collapsed": false,
    "execution": {
     "iopub.execute_input": "2025-02-09T21:37:16.361817Z",
     "iopub.status.busy": "2025-02-09T21:37:16.361465Z",
     "iopub.status.idle": "2025-02-09T21:37:16.599371Z",
     "shell.execute_reply": "2025-02-09T21:37:16.598039Z"
    },
    "jupyter": {
     "outputs_hidden": false
    },
    "papermill": {
     "duration": 0.250088,
     "end_time": "2025-02-09T21:37:16.601321",
     "exception": false,
     "start_time": "2025-02-09T21:37:16.351233",
     "status": "completed"
    },
    "tags": []
   },
   "outputs": [],
   "source": [
    "df = df[df[\"Invoice\"].astype(str).str.contains(\"C\")==False]"
   ]
  },
  {
   "cell_type": "markdown",
   "id": "d2bae08d",
   "metadata": {
    "papermill": {
     "duration": 0.009445,
     "end_time": "2025-02-09T21:37:16.620379",
     "exception": false,
     "start_time": "2025-02-09T21:37:16.610934",
     "status": "completed"
    },
    "tags": []
   },
   "source": [
    "# Calculating RFM Metrics (Recency, Frequency, Monetary)"
   ]
  },
  {
   "cell_type": "code",
   "execution_count": 12,
   "id": "71efe1ec",
   "metadata": {
    "_cell_guid": "9c964092-7ebe-4fdb-a29c-c909d7dc54d5",
    "_uuid": "2fa1e61b-a365-43a3-bb97-8f80311a7b7e",
    "collapsed": false,
    "execution": {
     "iopub.execute_input": "2025-02-09T21:37:16.641184Z",
     "iopub.status.busy": "2025-02-09T21:37:16.640690Z",
     "iopub.status.idle": "2025-02-09T21:37:16.644790Z",
     "shell.execute_reply": "2025-02-09T21:37:16.643766Z"
    },
    "jupyter": {
     "outputs_hidden": false
    },
    "papermill": {
     "duration": 0.016614,
     "end_time": "2025-02-09T21:37:16.646624",
     "exception": false,
     "start_time": "2025-02-09T21:37:16.630010",
     "status": "completed"
    },
    "tags": []
   },
   "outputs": [],
   "source": [
    "# Present Date (date of analysis)\n",
    "today_date = dt.datetime(2011, 12, 11)"
   ]
  },
  {
   "cell_type": "markdown",
   "id": "e8a86d17",
   "metadata": {
    "papermill": {
     "duration": 0.008968,
     "end_time": "2025-02-09T21:37:16.665217",
     "exception": false,
     "start_time": "2025-02-09T21:37:16.656249",
     "status": "completed"
    },
    "tags": []
   },
   "source": [
    "# Key Metrics Mapping\n",
    "\n",
    "*InvoiceDate => \n",
    "RecencyInvoice => \n",
    "FrequencyTotalPrice => \n",
    "Monetary*\n",
    "****"
   ]
  },
  {
   "cell_type": "code",
   "execution_count": 13,
   "id": "80d3a05e",
   "metadata": {
    "execution": {
     "iopub.execute_input": "2025-02-09T21:37:16.685664Z",
     "iopub.status.busy": "2025-02-09T21:37:16.685298Z",
     "iopub.status.idle": "2025-02-09T21:37:16.701879Z",
     "shell.execute_reply": "2025-02-09T21:37:16.700725Z"
    },
    "papermill": {
     "duration": 0.029331,
     "end_time": "2025-02-09T21:37:16.703961",
     "exception": false,
     "start_time": "2025-02-09T21:37:16.674630",
     "status": "completed"
    },
    "tags": []
   },
   "outputs": [],
   "source": [
    "# Creation of TotalPrice\n",
    "df[\"TotalPrice\"] = df[\"Quantity\"] * df[\"Price\"]"
   ]
  },
  {
   "cell_type": "code",
   "execution_count": 14,
   "id": "e319534a",
   "metadata": {
    "execution": {
     "iopub.execute_input": "2025-02-09T21:37:16.724215Z",
     "iopub.status.busy": "2025-02-09T21:37:16.723779Z",
     "iopub.status.idle": "2025-02-09T21:37:16.744107Z",
     "shell.execute_reply": "2025-02-09T21:37:16.743051Z"
    },
    "papermill": {
     "duration": 0.032253,
     "end_time": "2025-02-09T21:37:16.745945",
     "exception": false,
     "start_time": "2025-02-09T21:37:16.713692",
     "status": "completed"
    },
    "tags": []
   },
   "outputs": [
    {
     "data": {
      "text/html": [
       "<div>\n",
       "<style scoped>\n",
       "    .dataframe tbody tr th:only-of-type {\n",
       "        vertical-align: middle;\n",
       "    }\n",
       "\n",
       "    .dataframe tbody tr th {\n",
       "        vertical-align: top;\n",
       "    }\n",
       "\n",
       "    .dataframe thead th {\n",
       "        text-align: right;\n",
       "    }\n",
       "</style>\n",
       "<table border=\"1\" class=\"dataframe\">\n",
       "  <thead>\n",
       "    <tr style=\"text-align: right;\">\n",
       "      <th></th>\n",
       "      <th>Invoice</th>\n",
       "      <th>StockCode</th>\n",
       "      <th>Description</th>\n",
       "      <th>Quantity</th>\n",
       "      <th>InvoiceDate</th>\n",
       "      <th>Price</th>\n",
       "      <th>Customer ID</th>\n",
       "      <th>Country</th>\n",
       "      <th>TotalPrice</th>\n",
       "    </tr>\n",
       "  </thead>\n",
       "  <tbody>\n",
       "    <tr>\n",
       "      <th>0</th>\n",
       "      <td>489434</td>\n",
       "      <td>85048</td>\n",
       "      <td>15CM CHRISTMAS GLASS BALL 20 LIGHTS</td>\n",
       "      <td>12</td>\n",
       "      <td>2009-12-01 07:45:00</td>\n",
       "      <td>6.95</td>\n",
       "      <td>13085.00</td>\n",
       "      <td>United Kingdom</td>\n",
       "      <td>83.40</td>\n",
       "    </tr>\n",
       "    <tr>\n",
       "      <th>1</th>\n",
       "      <td>489434</td>\n",
       "      <td>79323P</td>\n",
       "      <td>PINK CHERRY LIGHTS</td>\n",
       "      <td>12</td>\n",
       "      <td>2009-12-01 07:45:00</td>\n",
       "      <td>6.75</td>\n",
       "      <td>13085.00</td>\n",
       "      <td>United Kingdom</td>\n",
       "      <td>81.00</td>\n",
       "    </tr>\n",
       "    <tr>\n",
       "      <th>2</th>\n",
       "      <td>489434</td>\n",
       "      <td>79323W</td>\n",
       "      <td>WHITE CHERRY LIGHTS</td>\n",
       "      <td>12</td>\n",
       "      <td>2009-12-01 07:45:00</td>\n",
       "      <td>6.75</td>\n",
       "      <td>13085.00</td>\n",
       "      <td>United Kingdom</td>\n",
       "      <td>81.00</td>\n",
       "    </tr>\n",
       "    <tr>\n",
       "      <th>3</th>\n",
       "      <td>489434</td>\n",
       "      <td>22041</td>\n",
       "      <td>RECORD FRAME 7\" SINGLE SIZE</td>\n",
       "      <td>48</td>\n",
       "      <td>2009-12-01 07:45:00</td>\n",
       "      <td>2.10</td>\n",
       "      <td>13085.00</td>\n",
       "      <td>United Kingdom</td>\n",
       "      <td>100.80</td>\n",
       "    </tr>\n",
       "    <tr>\n",
       "      <th>4</th>\n",
       "      <td>489434</td>\n",
       "      <td>21232</td>\n",
       "      <td>STRAWBERRY CERAMIC TRINKET BOX</td>\n",
       "      <td>24</td>\n",
       "      <td>2009-12-01 07:45:00</td>\n",
       "      <td>1.25</td>\n",
       "      <td>13085.00</td>\n",
       "      <td>United Kingdom</td>\n",
       "      <td>30.00</td>\n",
       "    </tr>\n",
       "  </tbody>\n",
       "</table>\n",
       "</div>"
      ],
      "text/plain": [
       "  Invoice StockCode                          Description  Quantity  \\\n",
       "0  489434     85048  15CM CHRISTMAS GLASS BALL 20 LIGHTS        12   \n",
       "1  489434    79323P                   PINK CHERRY LIGHTS        12   \n",
       "2  489434    79323W                  WHITE CHERRY LIGHTS        12   \n",
       "3  489434     22041         RECORD FRAME 7\" SINGLE SIZE         48   \n",
       "4  489434     21232       STRAWBERRY CERAMIC TRINKET BOX        24   \n",
       "\n",
       "          InvoiceDate  Price  Customer ID         Country  TotalPrice  \n",
       "0 2009-12-01 07:45:00   6.95     13085.00  United Kingdom       83.40  \n",
       "1 2009-12-01 07:45:00   6.75     13085.00  United Kingdom       81.00  \n",
       "2 2009-12-01 07:45:00   6.75     13085.00  United Kingdom       81.00  \n",
       "3 2009-12-01 07:45:00   2.10     13085.00  United Kingdom      100.80  \n",
       "4 2009-12-01 07:45:00   1.25     13085.00  United Kingdom       30.00  "
      ]
     },
     "execution_count": 14,
     "metadata": {},
     "output_type": "execute_result"
    }
   ],
   "source": [
    "df.head()"
   ]
  },
  {
   "cell_type": "code",
   "execution_count": 15,
   "id": "40c82dc6",
   "metadata": {
    "execution": {
     "iopub.execute_input": "2025-02-09T21:37:16.767568Z",
     "iopub.status.busy": "2025-02-09T21:37:16.767232Z",
     "iopub.status.idle": "2025-02-09T21:37:16.775174Z",
     "shell.execute_reply": "2025-02-09T21:37:16.774076Z"
    },
    "papermill": {
     "duration": 0.020824,
     "end_time": "2025-02-09T21:37:16.776931",
     "exception": false,
     "start_time": "2025-02-09T21:37:16.756107",
     "status": "completed"
    },
    "tags": []
   },
   "outputs": [
    {
     "data": {
      "text/plain": [
       "Timestamp('2010-12-09 20:01:00')"
      ]
     },
     "execution_count": 15,
     "metadata": {},
     "output_type": "execute_result"
    }
   ],
   "source": [
    "df[\"InvoiceDate\"].max()"
   ]
  },
  {
   "cell_type": "code",
   "execution_count": 16,
   "id": "0aebce5d",
   "metadata": {
    "execution": {
     "iopub.execute_input": "2025-02-09T21:37:16.798034Z",
     "iopub.status.busy": "2025-02-09T21:37:16.797612Z",
     "iopub.status.idle": "2025-02-09T21:37:16.803233Z",
     "shell.execute_reply": "2025-02-09T21:37:16.802097Z"
    },
    "papermill": {
     "duration": 0.017859,
     "end_time": "2025-02-09T21:37:16.804915",
     "exception": false,
     "start_time": "2025-02-09T21:37:16.787056",
     "status": "completed"
    },
    "tags": []
   },
   "outputs": [
    {
     "data": {
      "text/plain": [
       "datetime.datetime(2011, 12, 11, 0, 0)"
      ]
     },
     "execution_count": 16,
     "metadata": {},
     "output_type": "execute_result"
    }
   ],
   "source": [
    "today_date"
   ]
  },
  {
   "cell_type": "code",
   "execution_count": 17,
   "id": "9249fc51",
   "metadata": {
    "execution": {
     "iopub.execute_input": "2025-02-09T21:37:16.826241Z",
     "iopub.status.busy": "2025-02-09T21:37:16.825762Z",
     "iopub.status.idle": "2025-02-09T21:37:17.727753Z",
     "shell.execute_reply": "2025-02-09T21:37:17.726935Z"
    },
    "papermill": {
     "duration": 0.914578,
     "end_time": "2025-02-09T21:37:17.729745",
     "exception": false,
     "start_time": "2025-02-09T21:37:16.815167",
     "status": "completed"
    },
    "tags": []
   },
   "outputs": [],
   "source": [
    "# Calculating RFM Metrics\n",
    "rfm = df.groupby('Customer ID').agg({'InvoiceDate': lambda InvoiceDate: (today_date - InvoiceDate.max()).days,\n",
    "                                     'Invoice': lambda Invoice: Invoice.nunique(),\n",
    "                                     'TotalPrice': lambda TotalPrice: TotalPrice.sum()})"
   ]
  },
  {
   "cell_type": "code",
   "execution_count": 18,
   "id": "46429ac1",
   "metadata": {
    "execution": {
     "iopub.execute_input": "2025-02-09T21:37:17.751536Z",
     "iopub.status.busy": "2025-02-09T21:37:17.751195Z",
     "iopub.status.idle": "2025-02-09T21:37:17.760124Z",
     "shell.execute_reply": "2025-02-09T21:37:17.759126Z"
    },
    "papermill": {
     "duration": 0.021786,
     "end_time": "2025-02-09T21:37:17.761670",
     "exception": false,
     "start_time": "2025-02-09T21:37:17.739884",
     "status": "completed"
    },
    "tags": []
   },
   "outputs": [
    {
     "data": {
      "text/html": [
       "<div>\n",
       "<style scoped>\n",
       "    .dataframe tbody tr th:only-of-type {\n",
       "        vertical-align: middle;\n",
       "    }\n",
       "\n",
       "    .dataframe tbody tr th {\n",
       "        vertical-align: top;\n",
       "    }\n",
       "\n",
       "    .dataframe thead th {\n",
       "        text-align: right;\n",
       "    }\n",
       "</style>\n",
       "<table border=\"1\" class=\"dataframe\">\n",
       "  <thead>\n",
       "    <tr style=\"text-align: right;\">\n",
       "      <th></th>\n",
       "      <th>InvoiceDate</th>\n",
       "      <th>Invoice</th>\n",
       "      <th>TotalPrice</th>\n",
       "    </tr>\n",
       "    <tr>\n",
       "      <th>Customer ID</th>\n",
       "      <th></th>\n",
       "      <th></th>\n",
       "      <th></th>\n",
       "    </tr>\n",
       "  </thead>\n",
       "  <tbody>\n",
       "    <tr>\n",
       "      <th>12346.00</th>\n",
       "      <td>530</td>\n",
       "      <td>11</td>\n",
       "      <td>372.86</td>\n",
       "    </tr>\n",
       "    <tr>\n",
       "      <th>12347.00</th>\n",
       "      <td>368</td>\n",
       "      <td>2</td>\n",
       "      <td>1323.32</td>\n",
       "    </tr>\n",
       "    <tr>\n",
       "      <th>12348.00</th>\n",
       "      <td>439</td>\n",
       "      <td>1</td>\n",
       "      <td>222.16</td>\n",
       "    </tr>\n",
       "    <tr>\n",
       "      <th>12349.00</th>\n",
       "      <td>408</td>\n",
       "      <td>3</td>\n",
       "      <td>2671.14</td>\n",
       "    </tr>\n",
       "    <tr>\n",
       "      <th>12351.00</th>\n",
       "      <td>376</td>\n",
       "      <td>1</td>\n",
       "      <td>300.93</td>\n",
       "    </tr>\n",
       "  </tbody>\n",
       "</table>\n",
       "</div>"
      ],
      "text/plain": [
       "             InvoiceDate  Invoice  TotalPrice\n",
       "Customer ID                                  \n",
       "12346.00             530       11      372.86\n",
       "12347.00             368        2     1323.32\n",
       "12348.00             439        1      222.16\n",
       "12349.00             408        3     2671.14\n",
       "12351.00             376        1      300.93"
      ]
     },
     "execution_count": 18,
     "metadata": {},
     "output_type": "execute_result"
    }
   ],
   "source": [
    "rfm.head()"
   ]
  },
  {
   "cell_type": "code",
   "execution_count": 19,
   "id": "0edac5d3",
   "metadata": {
    "execution": {
     "iopub.execute_input": "2025-02-09T21:37:17.783088Z",
     "iopub.status.busy": "2025-02-09T21:37:17.782680Z",
     "iopub.status.idle": "2025-02-09T21:37:17.787505Z",
     "shell.execute_reply": "2025-02-09T21:37:17.786408Z"
    },
    "papermill": {
     "duration": 0.01755,
     "end_time": "2025-02-09T21:37:17.789405",
     "exception": false,
     "start_time": "2025-02-09T21:37:17.771855",
     "status": "completed"
    },
    "tags": []
   },
   "outputs": [],
   "source": [
    "# Changing column names\n",
    "rfm.columns = ['recency', 'frequency', 'monetary']"
   ]
  },
  {
   "cell_type": "code",
   "execution_count": 20,
   "id": "4a75435d",
   "metadata": {
    "execution": {
     "iopub.execute_input": "2025-02-09T21:37:17.811155Z",
     "iopub.status.busy": "2025-02-09T21:37:17.810763Z",
     "iopub.status.idle": "2025-02-09T21:37:17.819611Z",
     "shell.execute_reply": "2025-02-09T21:37:17.818637Z"
    },
    "papermill": {
     "duration": 0.021285,
     "end_time": "2025-02-09T21:37:17.821104",
     "exception": false,
     "start_time": "2025-02-09T21:37:17.799819",
     "status": "completed"
    },
    "tags": []
   },
   "outputs": [
    {
     "data": {
      "text/html": [
       "<div>\n",
       "<style scoped>\n",
       "    .dataframe tbody tr th:only-of-type {\n",
       "        vertical-align: middle;\n",
       "    }\n",
       "\n",
       "    .dataframe tbody tr th {\n",
       "        vertical-align: top;\n",
       "    }\n",
       "\n",
       "    .dataframe thead th {\n",
       "        text-align: right;\n",
       "    }\n",
       "</style>\n",
       "<table border=\"1\" class=\"dataframe\">\n",
       "  <thead>\n",
       "    <tr style=\"text-align: right;\">\n",
       "      <th></th>\n",
       "      <th>recency</th>\n",
       "      <th>frequency</th>\n",
       "      <th>monetary</th>\n",
       "    </tr>\n",
       "    <tr>\n",
       "      <th>Customer ID</th>\n",
       "      <th></th>\n",
       "      <th></th>\n",
       "      <th></th>\n",
       "    </tr>\n",
       "  </thead>\n",
       "  <tbody>\n",
       "    <tr>\n",
       "      <th>12346.00</th>\n",
       "      <td>530</td>\n",
       "      <td>11</td>\n",
       "      <td>372.86</td>\n",
       "    </tr>\n",
       "    <tr>\n",
       "      <th>12347.00</th>\n",
       "      <td>368</td>\n",
       "      <td>2</td>\n",
       "      <td>1323.32</td>\n",
       "    </tr>\n",
       "    <tr>\n",
       "      <th>12348.00</th>\n",
       "      <td>439</td>\n",
       "      <td>1</td>\n",
       "      <td>222.16</td>\n",
       "    </tr>\n",
       "    <tr>\n",
       "      <th>12349.00</th>\n",
       "      <td>408</td>\n",
       "      <td>3</td>\n",
       "      <td>2671.14</td>\n",
       "    </tr>\n",
       "    <tr>\n",
       "      <th>12351.00</th>\n",
       "      <td>376</td>\n",
       "      <td>1</td>\n",
       "      <td>300.93</td>\n",
       "    </tr>\n",
       "  </tbody>\n",
       "</table>\n",
       "</div>"
      ],
      "text/plain": [
       "             recency  frequency  monetary\n",
       "Customer ID                              \n",
       "12346.00         530         11    372.86\n",
       "12347.00         368          2   1323.32\n",
       "12348.00         439          1    222.16\n",
       "12349.00         408          3   2671.14\n",
       "12351.00         376          1    300.93"
      ]
     },
     "execution_count": 20,
     "metadata": {},
     "output_type": "execute_result"
    }
   ],
   "source": [
    "rfm.head()"
   ]
  },
  {
   "cell_type": "code",
   "execution_count": 21,
   "id": "ca624290",
   "metadata": {
    "execution": {
     "iopub.execute_input": "2025-02-09T21:37:17.842821Z",
     "iopub.status.busy": "2025-02-09T21:37:17.842492Z",
     "iopub.status.idle": "2025-02-09T21:37:17.847701Z",
     "shell.execute_reply": "2025-02-09T21:37:17.846752Z"
    },
    "papermill": {
     "duration": 0.017988,
     "end_time": "2025-02-09T21:37:17.849464",
     "exception": false,
     "start_time": "2025-02-09T21:37:17.831476",
     "status": "completed"
    },
    "tags": []
   },
   "outputs": [],
   "source": [
    "# Avoiding negative values due to refunds\n",
    "rfm = rfm[rfm[\"monetary\"] > 0]"
   ]
  },
  {
   "cell_type": "markdown",
   "id": "779506d0",
   "metadata": {
    "papermill": {
     "duration": 0.009847,
     "end_time": "2025-02-09T21:37:17.869936",
     "exception": false,
     "start_time": "2025-02-09T21:37:17.860089",
     "status": "completed"
    },
    "tags": []
   },
   "source": [
    "# Calculating RFM Scores (Recency_Score, Frequency_Score, Monetary_Score)"
   ]
  },
  {
   "cell_type": "code",
   "execution_count": 22,
   "id": "fb4541b1",
   "metadata": {
    "execution": {
     "iopub.execute_input": "2025-02-09T21:37:17.891575Z",
     "iopub.status.busy": "2025-02-09T21:37:17.891238Z",
     "iopub.status.idle": "2025-02-09T21:37:17.902329Z",
     "shell.execute_reply": "2025-02-09T21:37:17.901198Z"
    },
    "papermill": {
     "duration": 0.024048,
     "end_time": "2025-02-09T21:37:17.904222",
     "exception": false,
     "start_time": "2025-02-09T21:37:17.880174",
     "status": "completed"
    },
    "tags": []
   },
   "outputs": [],
   "source": [
    "# Calculating Recency_Score\n",
    "rfm[\"recency_score\"] = pd.qcut(rfm['recency'], 5, labels=[5, 4, 3, 2, 1])"
   ]
  },
  {
   "cell_type": "code",
   "execution_count": 23,
   "id": "7549e2f3",
   "metadata": {
    "execution": {
     "iopub.execute_input": "2025-02-09T21:37:17.928704Z",
     "iopub.status.busy": "2025-02-09T21:37:17.928382Z",
     "iopub.status.idle": "2025-02-09T21:37:17.938101Z",
     "shell.execute_reply": "2025-02-09T21:37:17.936945Z"
    },
    "papermill": {
     "duration": 0.022643,
     "end_time": "2025-02-09T21:37:17.939735",
     "exception": false,
     "start_time": "2025-02-09T21:37:17.917092",
     "status": "completed"
    },
    "tags": []
   },
   "outputs": [
    {
     "data": {
      "text/html": [
       "<div>\n",
       "<style scoped>\n",
       "    .dataframe tbody tr th:only-of-type {\n",
       "        vertical-align: middle;\n",
       "    }\n",
       "\n",
       "    .dataframe tbody tr th {\n",
       "        vertical-align: top;\n",
       "    }\n",
       "\n",
       "    .dataframe thead th {\n",
       "        text-align: right;\n",
       "    }\n",
       "</style>\n",
       "<table border=\"1\" class=\"dataframe\">\n",
       "  <thead>\n",
       "    <tr style=\"text-align: right;\">\n",
       "      <th></th>\n",
       "      <th>recency</th>\n",
       "      <th>frequency</th>\n",
       "      <th>monetary</th>\n",
       "      <th>recency_score</th>\n",
       "    </tr>\n",
       "    <tr>\n",
       "      <th>Customer ID</th>\n",
       "      <th></th>\n",
       "      <th></th>\n",
       "      <th></th>\n",
       "      <th></th>\n",
       "    </tr>\n",
       "  </thead>\n",
       "  <tbody>\n",
       "    <tr>\n",
       "      <th>12346.00</th>\n",
       "      <td>530</td>\n",
       "      <td>11</td>\n",
       "      <td>372.86</td>\n",
       "      <td>2</td>\n",
       "    </tr>\n",
       "    <tr>\n",
       "      <th>12347.00</th>\n",
       "      <td>368</td>\n",
       "      <td>2</td>\n",
       "      <td>1323.32</td>\n",
       "      <td>5</td>\n",
       "    </tr>\n",
       "    <tr>\n",
       "      <th>12348.00</th>\n",
       "      <td>439</td>\n",
       "      <td>1</td>\n",
       "      <td>222.16</td>\n",
       "      <td>2</td>\n",
       "    </tr>\n",
       "    <tr>\n",
       "      <th>12349.00</th>\n",
       "      <td>408</td>\n",
       "      <td>3</td>\n",
       "      <td>2671.14</td>\n",
       "      <td>3</td>\n",
       "    </tr>\n",
       "    <tr>\n",
       "      <th>12351.00</th>\n",
       "      <td>376</td>\n",
       "      <td>1</td>\n",
       "      <td>300.93</td>\n",
       "      <td>5</td>\n",
       "    </tr>\n",
       "  </tbody>\n",
       "</table>\n",
       "</div>"
      ],
      "text/plain": [
       "             recency  frequency  monetary recency_score\n",
       "Customer ID                                            \n",
       "12346.00         530         11    372.86             2\n",
       "12347.00         368          2   1323.32             5\n",
       "12348.00         439          1    222.16             2\n",
       "12349.00         408          3   2671.14             3\n",
       "12351.00         376          1    300.93             5"
      ]
     },
     "execution_count": 23,
     "metadata": {},
     "output_type": "execute_result"
    }
   ],
   "source": [
    "rfm.head()"
   ]
  },
  {
   "cell_type": "code",
   "execution_count": 24,
   "id": "54c29aba",
   "metadata": {
    "execution": {
     "iopub.execute_input": "2025-02-09T21:37:17.961652Z",
     "iopub.status.busy": "2025-02-09T21:37:17.961337Z",
     "iopub.status.idle": "2025-02-09T21:37:17.970082Z",
     "shell.execute_reply": "2025-02-09T21:37:17.969227Z"
    },
    "papermill": {
     "duration": 0.021614,
     "end_time": "2025-02-09T21:37:17.971800",
     "exception": false,
     "start_time": "2025-02-09T21:37:17.950186",
     "status": "completed"
    },
    "tags": []
   },
   "outputs": [],
   "source": [
    "# Calculating Frequency_Score\n",
    "rfm[\"frequency_score\"] = pd.qcut(rfm['frequency'].rank(method=\"first\"), 5, labels=[1, 2, 3, 4, 5])"
   ]
  },
  {
   "cell_type": "code",
   "execution_count": 25,
   "id": "81398b6c",
   "metadata": {
    "execution": {
     "iopub.execute_input": "2025-02-09T21:37:17.994480Z",
     "iopub.status.busy": "2025-02-09T21:37:17.994104Z",
     "iopub.status.idle": "2025-02-09T21:37:18.004772Z",
     "shell.execute_reply": "2025-02-09T21:37:18.003777Z"
    },
    "papermill": {
     "duration": 0.024017,
     "end_time": "2025-02-09T21:37:18.006443",
     "exception": false,
     "start_time": "2025-02-09T21:37:17.982426",
     "status": "completed"
    },
    "tags": []
   },
   "outputs": [
    {
     "data": {
      "text/html": [
       "<div>\n",
       "<style scoped>\n",
       "    .dataframe tbody tr th:only-of-type {\n",
       "        vertical-align: middle;\n",
       "    }\n",
       "\n",
       "    .dataframe tbody tr th {\n",
       "        vertical-align: top;\n",
       "    }\n",
       "\n",
       "    .dataframe thead th {\n",
       "        text-align: right;\n",
       "    }\n",
       "</style>\n",
       "<table border=\"1\" class=\"dataframe\">\n",
       "  <thead>\n",
       "    <tr style=\"text-align: right;\">\n",
       "      <th></th>\n",
       "      <th>recency</th>\n",
       "      <th>frequency</th>\n",
       "      <th>monetary</th>\n",
       "      <th>recency_score</th>\n",
       "      <th>frequency_score</th>\n",
       "    </tr>\n",
       "    <tr>\n",
       "      <th>Customer ID</th>\n",
       "      <th></th>\n",
       "      <th></th>\n",
       "      <th></th>\n",
       "      <th></th>\n",
       "      <th></th>\n",
       "    </tr>\n",
       "  </thead>\n",
       "  <tbody>\n",
       "    <tr>\n",
       "      <th>12346.00</th>\n",
       "      <td>530</td>\n",
       "      <td>11</td>\n",
       "      <td>372.86</td>\n",
       "      <td>2</td>\n",
       "      <td>5</td>\n",
       "    </tr>\n",
       "    <tr>\n",
       "      <th>12347.00</th>\n",
       "      <td>368</td>\n",
       "      <td>2</td>\n",
       "      <td>1323.32</td>\n",
       "      <td>5</td>\n",
       "      <td>2</td>\n",
       "    </tr>\n",
       "    <tr>\n",
       "      <th>12348.00</th>\n",
       "      <td>439</td>\n",
       "      <td>1</td>\n",
       "      <td>222.16</td>\n",
       "      <td>2</td>\n",
       "      <td>1</td>\n",
       "    </tr>\n",
       "    <tr>\n",
       "      <th>12349.00</th>\n",
       "      <td>408</td>\n",
       "      <td>3</td>\n",
       "      <td>2671.14</td>\n",
       "      <td>3</td>\n",
       "      <td>3</td>\n",
       "    </tr>\n",
       "    <tr>\n",
       "      <th>12351.00</th>\n",
       "      <td>376</td>\n",
       "      <td>1</td>\n",
       "      <td>300.93</td>\n",
       "      <td>5</td>\n",
       "      <td>1</td>\n",
       "    </tr>\n",
       "  </tbody>\n",
       "</table>\n",
       "</div>"
      ],
      "text/plain": [
       "             recency  frequency  monetary recency_score frequency_score\n",
       "Customer ID                                                            \n",
       "12346.00         530         11    372.86             2               5\n",
       "12347.00         368          2   1323.32             5               2\n",
       "12348.00         439          1    222.16             2               1\n",
       "12349.00         408          3   2671.14             3               3\n",
       "12351.00         376          1    300.93             5               1"
      ]
     },
     "execution_count": 25,
     "metadata": {},
     "output_type": "execute_result"
    }
   ],
   "source": [
    "rfm.head()"
   ]
  },
  {
   "cell_type": "code",
   "execution_count": 26,
   "id": "f61385dd",
   "metadata": {
    "execution": {
     "iopub.execute_input": "2025-02-09T21:37:18.028872Z",
     "iopub.status.busy": "2025-02-09T21:37:18.028545Z",
     "iopub.status.idle": "2025-02-09T21:37:18.035933Z",
     "shell.execute_reply": "2025-02-09T21:37:18.035039Z"
    },
    "papermill": {
     "duration": 0.020596,
     "end_time": "2025-02-09T21:37:18.037708",
     "exception": false,
     "start_time": "2025-02-09T21:37:18.017112",
     "status": "completed"
    },
    "tags": []
   },
   "outputs": [],
   "source": [
    "# Calculating Monetary_Score\n",
    "rfm[\"monetary_score\"] = pd.qcut(rfm['monetary'], 5, labels=[1, 2, 3, 4, 5])"
   ]
  },
  {
   "cell_type": "code",
   "execution_count": 27,
   "id": "edece6de",
   "metadata": {
    "execution": {
     "iopub.execute_input": "2025-02-09T21:37:18.063577Z",
     "iopub.status.busy": "2025-02-09T21:37:18.063222Z",
     "iopub.status.idle": "2025-02-09T21:37:18.076290Z",
     "shell.execute_reply": "2025-02-09T21:37:18.075169Z"
    },
    "papermill": {
     "duration": 0.029673,
     "end_time": "2025-02-09T21:37:18.078382",
     "exception": false,
     "start_time": "2025-02-09T21:37:18.048709",
     "status": "completed"
    },
    "tags": []
   },
   "outputs": [
    {
     "data": {
      "text/html": [
       "<div>\n",
       "<style scoped>\n",
       "    .dataframe tbody tr th:only-of-type {\n",
       "        vertical-align: middle;\n",
       "    }\n",
       "\n",
       "    .dataframe tbody tr th {\n",
       "        vertical-align: top;\n",
       "    }\n",
       "\n",
       "    .dataframe thead th {\n",
       "        text-align: right;\n",
       "    }\n",
       "</style>\n",
       "<table border=\"1\" class=\"dataframe\">\n",
       "  <thead>\n",
       "    <tr style=\"text-align: right;\">\n",
       "      <th></th>\n",
       "      <th>recency</th>\n",
       "      <th>frequency</th>\n",
       "      <th>monetary</th>\n",
       "      <th>recency_score</th>\n",
       "      <th>frequency_score</th>\n",
       "      <th>monetary_score</th>\n",
       "    </tr>\n",
       "    <tr>\n",
       "      <th>Customer ID</th>\n",
       "      <th></th>\n",
       "      <th></th>\n",
       "      <th></th>\n",
       "      <th></th>\n",
       "      <th></th>\n",
       "      <th></th>\n",
       "    </tr>\n",
       "  </thead>\n",
       "  <tbody>\n",
       "    <tr>\n",
       "      <th>12346.00</th>\n",
       "      <td>530</td>\n",
       "      <td>11</td>\n",
       "      <td>372.86</td>\n",
       "      <td>2</td>\n",
       "      <td>5</td>\n",
       "      <td>2</td>\n",
       "    </tr>\n",
       "    <tr>\n",
       "      <th>12347.00</th>\n",
       "      <td>368</td>\n",
       "      <td>2</td>\n",
       "      <td>1323.32</td>\n",
       "      <td>5</td>\n",
       "      <td>2</td>\n",
       "      <td>4</td>\n",
       "    </tr>\n",
       "    <tr>\n",
       "      <th>12348.00</th>\n",
       "      <td>439</td>\n",
       "      <td>1</td>\n",
       "      <td>222.16</td>\n",
       "      <td>2</td>\n",
       "      <td>1</td>\n",
       "      <td>1</td>\n",
       "    </tr>\n",
       "    <tr>\n",
       "      <th>12349.00</th>\n",
       "      <td>408</td>\n",
       "      <td>3</td>\n",
       "      <td>2671.14</td>\n",
       "      <td>3</td>\n",
       "      <td>3</td>\n",
       "      <td>5</td>\n",
       "    </tr>\n",
       "    <tr>\n",
       "      <th>12351.00</th>\n",
       "      <td>376</td>\n",
       "      <td>1</td>\n",
       "      <td>300.93</td>\n",
       "      <td>5</td>\n",
       "      <td>1</td>\n",
       "      <td>2</td>\n",
       "    </tr>\n",
       "  </tbody>\n",
       "</table>\n",
       "</div>"
      ],
      "text/plain": [
       "             recency  frequency  monetary recency_score frequency_score  \\\n",
       "Customer ID                                                               \n",
       "12346.00         530         11    372.86             2               5   \n",
       "12347.00         368          2   1323.32             5               2   \n",
       "12348.00         439          1    222.16             2               1   \n",
       "12349.00         408          3   2671.14             3               3   \n",
       "12351.00         376          1    300.93             5               1   \n",
       "\n",
       "            monetary_score  \n",
       "Customer ID                 \n",
       "12346.00                 2  \n",
       "12347.00                 4  \n",
       "12348.00                 1  \n",
       "12349.00                 5  \n",
       "12351.00                 2  "
      ]
     },
     "execution_count": 27,
     "metadata": {},
     "output_type": "execute_result"
    }
   ],
   "source": [
    "rfm.head()"
   ]
  },
  {
   "cell_type": "code",
   "execution_count": 28,
   "id": "6e11a555",
   "metadata": {
    "execution": {
     "iopub.execute_input": "2025-02-09T21:37:18.111828Z",
     "iopub.status.busy": "2025-02-09T21:37:18.111474Z",
     "iopub.status.idle": "2025-02-09T21:37:18.119486Z",
     "shell.execute_reply": "2025-02-09T21:37:18.118649Z"
    },
    "papermill": {
     "duration": 0.024477,
     "end_time": "2025-02-09T21:37:18.121014",
     "exception": false,
     "start_time": "2025-02-09T21:37:18.096537",
     "status": "completed"
    },
    "tags": []
   },
   "outputs": [],
   "source": [
    "# Creating RFM_SSCORE VARIABLE\n",
    "rfm[\"RFM_SCORE\"] = (rfm['recency_score'].astype(str) +\n",
    "                    rfm['frequency_score'].astype(str))"
   ]
  },
  {
   "cell_type": "code",
   "execution_count": 29,
   "id": "44560a8a",
   "metadata": {
    "execution": {
     "iopub.execute_input": "2025-02-09T21:37:18.150283Z",
     "iopub.status.busy": "2025-02-09T21:37:18.149813Z",
     "iopub.status.idle": "2025-02-09T21:37:18.161920Z",
     "shell.execute_reply": "2025-02-09T21:37:18.160875Z"
    },
    "papermill": {
     "duration": 0.029325,
     "end_time": "2025-02-09T21:37:18.163610",
     "exception": false,
     "start_time": "2025-02-09T21:37:18.134285",
     "status": "completed"
    },
    "tags": []
   },
   "outputs": [
    {
     "data": {
      "text/html": [
       "<div>\n",
       "<style scoped>\n",
       "    .dataframe tbody tr th:only-of-type {\n",
       "        vertical-align: middle;\n",
       "    }\n",
       "\n",
       "    .dataframe tbody tr th {\n",
       "        vertical-align: top;\n",
       "    }\n",
       "\n",
       "    .dataframe thead th {\n",
       "        text-align: right;\n",
       "    }\n",
       "</style>\n",
       "<table border=\"1\" class=\"dataframe\">\n",
       "  <thead>\n",
       "    <tr style=\"text-align: right;\">\n",
       "      <th></th>\n",
       "      <th>recency</th>\n",
       "      <th>frequency</th>\n",
       "      <th>monetary</th>\n",
       "      <th>recency_score</th>\n",
       "      <th>frequency_score</th>\n",
       "      <th>monetary_score</th>\n",
       "      <th>RFM_SCORE</th>\n",
       "    </tr>\n",
       "    <tr>\n",
       "      <th>Customer ID</th>\n",
       "      <th></th>\n",
       "      <th></th>\n",
       "      <th></th>\n",
       "      <th></th>\n",
       "      <th></th>\n",
       "      <th></th>\n",
       "      <th></th>\n",
       "    </tr>\n",
       "  </thead>\n",
       "  <tbody>\n",
       "    <tr>\n",
       "      <th>12346.00</th>\n",
       "      <td>530</td>\n",
       "      <td>11</td>\n",
       "      <td>372.86</td>\n",
       "      <td>2</td>\n",
       "      <td>5</td>\n",
       "      <td>2</td>\n",
       "      <td>25</td>\n",
       "    </tr>\n",
       "    <tr>\n",
       "      <th>12347.00</th>\n",
       "      <td>368</td>\n",
       "      <td>2</td>\n",
       "      <td>1323.32</td>\n",
       "      <td>5</td>\n",
       "      <td>2</td>\n",
       "      <td>4</td>\n",
       "      <td>52</td>\n",
       "    </tr>\n",
       "    <tr>\n",
       "      <th>12348.00</th>\n",
       "      <td>439</td>\n",
       "      <td>1</td>\n",
       "      <td>222.16</td>\n",
       "      <td>2</td>\n",
       "      <td>1</td>\n",
       "      <td>1</td>\n",
       "      <td>21</td>\n",
       "    </tr>\n",
       "    <tr>\n",
       "      <th>12349.00</th>\n",
       "      <td>408</td>\n",
       "      <td>3</td>\n",
       "      <td>2671.14</td>\n",
       "      <td>3</td>\n",
       "      <td>3</td>\n",
       "      <td>5</td>\n",
       "      <td>33</td>\n",
       "    </tr>\n",
       "    <tr>\n",
       "      <th>12351.00</th>\n",
       "      <td>376</td>\n",
       "      <td>1</td>\n",
       "      <td>300.93</td>\n",
       "      <td>5</td>\n",
       "      <td>1</td>\n",
       "      <td>2</td>\n",
       "      <td>51</td>\n",
       "    </tr>\n",
       "  </tbody>\n",
       "</table>\n",
       "</div>"
      ],
      "text/plain": [
       "             recency  frequency  monetary recency_score frequency_score  \\\n",
       "Customer ID                                                               \n",
       "12346.00         530         11    372.86             2               5   \n",
       "12347.00         368          2   1323.32             5               2   \n",
       "12348.00         439          1    222.16             2               1   \n",
       "12349.00         408          3   2671.14             3               3   \n",
       "12351.00         376          1    300.93             5               1   \n",
       "\n",
       "            monetary_score RFM_SCORE  \n",
       "Customer ID                           \n",
       "12346.00                 2        25  \n",
       "12347.00                 4        52  \n",
       "12348.00                 1        21  \n",
       "12349.00                 5        33  \n",
       "12351.00                 2        51  "
      ]
     },
     "execution_count": 29,
     "metadata": {},
     "output_type": "execute_result"
    }
   ],
   "source": [
    "rfm.head()"
   ]
  },
  {
   "cell_type": "markdown",
   "id": "d4562f69",
   "metadata": {
    "papermill": {
     "duration": 0.010966,
     "end_time": "2025-02-09T21:37:18.186361",
     "exception": false,
     "start_time": "2025-02-09T21:37:18.175395",
     "status": "completed"
    },
    "tags": []
   },
   "source": [
    "# Creating & Analysing RFM Segments"
   ]
  },
  {
   "cell_type": "markdown",
   "id": "1e26d233",
   "metadata": {
    "papermill": {
     "duration": 0.011055,
     "end_time": "2025-02-09T21:37:18.208507",
     "exception": false,
     "start_time": "2025-02-09T21:37:18.197452",
     "status": "completed"
    },
    "tags": []
   },
   "source": [
    "# **RFM Segments\n",
    "\n",
    "Champions: The best customers, who bought most recently, most often, and are heavy spenders. Reward these customers. They can be the first to buy new products.\n",
    "\n",
    "Potential Loyalists: The recent customers with average frequency and who spent a good amount. You can make them your Loyalists or Champions by offering membership or loyalty programs or recommending related products.\n",
    "\n",
    "New Customers: Customers who have a high overall RFM score but are not frequent shoppers. Special offers can be provided to increase their visits.\n",
    "\n",
    "At Risk Customers: Customers who purchased often and spent big amounts, but haven’t purchased recently. Personalized deals and product/service recommendations can help reactivate them.\n",
    "\n",
    "Can’t Lose Them: Customers who used to visit and purchase quite often, but haven’t been visiting recently. Get them to revisit with relevant promotions and conduct surveys to find out what went wrong.**"
   ]
  },
  {
   "attachments": {
    "11496192-34c4-4af9-a3d4-e6978e0eacb7.jpg": {
     "image/jpeg": "[encoded data removed]"
    }
   },
   "cell_type": "markdown",
   "id": "169c5017",
   "metadata": {
    "papermill": {
     "duration": 0.010887,
     "end_time": "2025-02-09T21:37:18.230357",
     "exception": false,
     "start_time": "2025-02-09T21:37:18.219470",
     "status": "completed"
    },
    "tags": []
   },
   "source": [
    "![![Customer-Segmentation-Using-RFM-Analysis.jpg](attachment:11496192-34c4-4af9-a3d4-e6978e0eacb7.jpg)]"
   ]
  },
  {
   "cell_type": "code",
   "execution_count": 30,
   "id": "acae80b5",
   "metadata": {
    "execution": {
     "iopub.execute_input": "2025-02-09T21:37:18.254447Z",
     "iopub.status.busy": "2025-02-09T21:37:18.254094Z",
     "iopub.status.idle": "2025-02-09T21:37:18.258597Z",
     "shell.execute_reply": "2025-02-09T21:37:18.257339Z"
    },
    "papermill": {
     "duration": 0.018443,
     "end_time": "2025-02-09T21:37:18.260260",
     "exception": false,
     "start_time": "2025-02-09T21:37:18.241817",
     "status": "completed"
    },
    "tags": []
   },
   "outputs": [],
   "source": [
    "# Creation of a segment map\n",
    "seg_map = {\n",
    "    r'[1-2][1-2]': 'hibernating',\n",
    "    r'[1-2][3-4]': 'at_Risk',\n",
    "    r'[1-2]5': 'cant_loose',\n",
    "    r'3[1-2]': 'about_to_sleep',\n",
    "    r'33': 'need_attention',\n",
    "    r'[3-4][4-5]': 'loyal_customers',\n",
    "    r'41': 'promising',\n",
    "    r'51': 'new_customers',\n",
    "    r'[4-5][2-3]': 'potential_loyalists',\n",
    "    r'5[4-5]': 'champions'\n",
    "}"
   ]
  },
  {
   "cell_type": "markdown",
   "id": "4ee0543c",
   "metadata": {
    "papermill": {
     "duration": 0.010626,
     "end_time": "2025-02-09T21:37:18.282113",
     "exception": false,
     "start_time": "2025-02-09T21:37:18.271487",
     "status": "completed"
    },
    "tags": []
   },
   "source": [
    "[<iframe src=\"https://www.kaggle.com/embed/mehmetisik/rfm-analysis-1?cellIds=51&kernelSessionId=220118352\" height=\"300\" style=\"margin: 0 auto; width: 100%; max-width: 950px;\" frameborder=\"0\" scrolling=\"auto\" title=\"RFM Analysis - 1\"></iframe>](http://)"
   ]
  },
  {
   "cell_type": "code",
   "execution_count": 31,
   "id": "571b7f26",
   "metadata": {
    "execution": {
     "iopub.execute_input": "2025-02-09T21:37:18.305479Z",
     "iopub.status.busy": "2025-02-09T21:37:18.305139Z",
     "iopub.status.idle": "2025-02-09T21:37:18.359767Z",
     "shell.execute_reply": "2025-02-09T21:37:18.358774Z"
    },
    "papermill": {
     "duration": 0.068687,
     "end_time": "2025-02-09T21:37:18.361760",
     "exception": false,
     "start_time": "2025-02-09T21:37:18.293073",
     "status": "completed"
    },
    "tags": []
   },
   "outputs": [],
   "source": [
    "# creating segment variable\n",
    "rfm['segment'] = rfm['RFM_SCORE'].replace(seg_map, regex=True)"
   ]
  },
  {
   "cell_type": "code",
   "execution_count": 32,
   "id": "f660a6c7",
   "metadata": {
    "execution": {
     "iopub.execute_input": "2025-02-09T21:37:18.386498Z",
     "iopub.status.busy": "2025-02-09T21:37:18.386144Z",
     "iopub.status.idle": "2025-02-09T21:37:18.398660Z",
     "shell.execute_reply": "2025-02-09T21:37:18.397656Z"
    },
    "papermill": {
     "duration": 0.026628,
     "end_time": "2025-02-09T21:37:18.400560",
     "exception": false,
     "start_time": "2025-02-09T21:37:18.373932",
     "status": "completed"
    },
    "tags": []
   },
   "outputs": [
    {
     "data": {
      "text/html": [
       "<div>\n",
       "<style scoped>\n",
       "    .dataframe tbody tr th:only-of-type {\n",
       "        vertical-align: middle;\n",
       "    }\n",
       "\n",
       "    .dataframe tbody tr th {\n",
       "        vertical-align: top;\n",
       "    }\n",
       "\n",
       "    .dataframe thead th {\n",
       "        text-align: right;\n",
       "    }\n",
       "</style>\n",
       "<table border=\"1\" class=\"dataframe\">\n",
       "  <thead>\n",
       "    <tr style=\"text-align: right;\">\n",
       "      <th></th>\n",
       "      <th>recency</th>\n",
       "      <th>frequency</th>\n",
       "      <th>monetary</th>\n",
       "      <th>recency_score</th>\n",
       "      <th>frequency_score</th>\n",
       "      <th>monetary_score</th>\n",
       "      <th>RFM_SCORE</th>\n",
       "      <th>segment</th>\n",
       "    </tr>\n",
       "    <tr>\n",
       "      <th>Customer ID</th>\n",
       "      <th></th>\n",
       "      <th></th>\n",
       "      <th></th>\n",
       "      <th></th>\n",
       "      <th></th>\n",
       "      <th></th>\n",
       "      <th></th>\n",
       "      <th></th>\n",
       "    </tr>\n",
       "  </thead>\n",
       "  <tbody>\n",
       "    <tr>\n",
       "      <th>12346.00</th>\n",
       "      <td>530</td>\n",
       "      <td>11</td>\n",
       "      <td>372.86</td>\n",
       "      <td>2</td>\n",
       "      <td>5</td>\n",
       "      <td>2</td>\n",
       "      <td>25</td>\n",
       "      <td>cant_loose</td>\n",
       "    </tr>\n",
       "    <tr>\n",
       "      <th>12347.00</th>\n",
       "      <td>368</td>\n",
       "      <td>2</td>\n",
       "      <td>1323.32</td>\n",
       "      <td>5</td>\n",
       "      <td>2</td>\n",
       "      <td>4</td>\n",
       "      <td>52</td>\n",
       "      <td>potential_loyalists</td>\n",
       "    </tr>\n",
       "    <tr>\n",
       "      <th>12348.00</th>\n",
       "      <td>439</td>\n",
       "      <td>1</td>\n",
       "      <td>222.16</td>\n",
       "      <td>2</td>\n",
       "      <td>1</td>\n",
       "      <td>1</td>\n",
       "      <td>21</td>\n",
       "      <td>hibernating</td>\n",
       "    </tr>\n",
       "    <tr>\n",
       "      <th>12349.00</th>\n",
       "      <td>408</td>\n",
       "      <td>3</td>\n",
       "      <td>2671.14</td>\n",
       "      <td>3</td>\n",
       "      <td>3</td>\n",
       "      <td>5</td>\n",
       "      <td>33</td>\n",
       "      <td>need_attention</td>\n",
       "    </tr>\n",
       "    <tr>\n",
       "      <th>12351.00</th>\n",
       "      <td>376</td>\n",
       "      <td>1</td>\n",
       "      <td>300.93</td>\n",
       "      <td>5</td>\n",
       "      <td>1</td>\n",
       "      <td>2</td>\n",
       "      <td>51</td>\n",
       "      <td>new_customers</td>\n",
       "    </tr>\n",
       "  </tbody>\n",
       "</table>\n",
       "</div>"
      ],
      "text/plain": [
       "             recency  frequency  monetary recency_score frequency_score  \\\n",
       "Customer ID                                                               \n",
       "12346.00         530         11    372.86             2               5   \n",
       "12347.00         368          2   1323.32             5               2   \n",
       "12348.00         439          1    222.16             2               1   \n",
       "12349.00         408          3   2671.14             3               3   \n",
       "12351.00         376          1    300.93             5               1   \n",
       "\n",
       "            monetary_score RFM_SCORE              segment  \n",
       "Customer ID                                                \n",
       "12346.00                 2        25           cant_loose  \n",
       "12347.00                 4        52  potential_loyalists  \n",
       "12348.00                 1        21          hibernating  \n",
       "12349.00                 5        33       need_attention  \n",
       "12351.00                 2        51        new_customers  "
      ]
     },
     "execution_count": 32,
     "metadata": {},
     "output_type": "execute_result"
    }
   ],
   "source": [
    "rfm.head()"
   ]
  },
  {
   "cell_type": "code",
   "execution_count": 33,
   "id": "0177dbd1",
   "metadata": {
    "execution": {
     "iopub.execute_input": "2025-02-09T21:37:18.424396Z",
     "iopub.status.busy": "2025-02-09T21:37:18.423931Z",
     "iopub.status.idle": "2025-02-09T21:37:18.429611Z",
     "shell.execute_reply": "2025-02-09T21:37:18.428712Z"
    },
    "papermill": {
     "duration": 0.019341,
     "end_time": "2025-02-09T21:37:18.431201",
     "exception": false,
     "start_time": "2025-02-09T21:37:18.411860",
     "status": "completed"
    },
    "tags": []
   },
   "outputs": [
    {
     "data": {
      "text/plain": [
       "(4312, 8)"
      ]
     },
     "execution_count": 33,
     "metadata": {},
     "output_type": "execute_result"
    }
   ],
   "source": [
    "rfm.shape"
   ]
  },
  {
   "cell_type": "code",
   "execution_count": 34,
   "id": "da7b6c5f",
   "metadata": {
    "execution": {
     "iopub.execute_input": "2025-02-09T21:37:18.455744Z",
     "iopub.status.busy": "2025-02-09T21:37:18.455421Z",
     "iopub.status.idle": "2025-02-09T21:37:18.804328Z",
     "shell.execute_reply": "2025-02-09T21:37:18.803287Z"
    },
    "papermill": {
     "duration": 0.363015,
     "end_time": "2025-02-09T21:37:18.806160",
     "exception": false,
     "start_time": "2025-02-09T21:37:18.443145",
     "status": "completed"
    },
    "tags": []
   },
   "outputs": [
    {
     "data": {
      "image/png": "[encoded data removed]",
      "text/plain": [
       "<Figure size 1600x800 with 1 Axes>"
      ]
     },
     "metadata": {},
     "output_type": "display_data"
    }
   ],
   "source": [
    "# Segment Distribution\n",
    "segment_counts = rfm['segment'].value_counts()\n",
    "plt.figure(figsize=(16, 8))\n",
    "sns.barplot(x=segment_counts.index, y=segment_counts.values)\n",
    "plt.title('Segment Distribution')\n",
    "plt.xlabel('Segment')\n",
    "plt.ylabel('Customer Count')\n",
    "plt.xticks(rotation=45)\n",
    "plt.show()"
   ]
  }
 ],
 "metadata": {
  "kaggle": {
   "accelerator": "none",
   "dataSources": [
    {
     "datasetId": 6595540,
     "sourceId": 10651361,
     "sourceType": "datasetVersion"
    }
   ],
   "dockerImageVersionId": 30839,
   "isGpuEnabled": false,
   "isInternetEnabled": false,
   "language": "python",
   "sourceType": "notebook"
  },
  "kernelspec": {
   "display_name": "Python 3",
   "language": "python",
   "name": "python3"
  },
  "language_info": {
   "codemirror_mode": {
    "name": "ipython",
    "version": 3
   },
   "file_extension": ".py",
   "mimetype": "text/x-python",
   "name": "python",
   "nbconvert_exporter": "python",
   "pygments_lexer": "ipython3",
   "version": "3.10.12"
  },
  "papermill": {
   "default_parameters": {},
   "duration": 67.699159,
   "end_time": "2025-02-09T21:37:19.539788",
   "environment_variables": {},
   "exception": null,
   "input_path": "__notebook__.ipynb",
   "output_path": "__notebook__.ipynb",
   "parameters": {},
   "start_time": "2025-02-09T21:36:11.840629",
   "version": "2.6.0"
  }
 },
 "nbformat": 4,
 "nbformat_minor": 5
}
