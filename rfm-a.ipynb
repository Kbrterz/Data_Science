{
 "cells": [
  {
   "cell_type": "markdown",
   "id": "17029eee",
   "metadata": {
    "_cell_guid": "7a0bb1c1-2dfe-42a1-9624-59205347688b",
    "_uuid": "49b3e153-6c36-44cf-be32-857a8e0393ae",
    "collapsed": false,
    "jupyter": {
     "outputs_hidden": false
    },
    "papermill": {
     "duration": 0.009817,
     "end_time": "2025-02-09T18:03:45.244599",
     "exception": false,
     "start_time": "2025-02-09T18:03:45.234782",
     "status": "completed"
    },
    "tags": []
   },
   "source": [
    "\n",
    "\n",
    "# RFM ANALYSIS\n",
    "\n",
    "\n",
    "\n",
    "*Business Problem:*\n",
    "\n",
    "A COMPANY wants to divide its customers into segments and determine marketing strategies according to these segments. To this end, customer behaviors will be defined and groups will be created according to these behavior clusters.\n",
    "\n",
    "*The Data Set Story*\n",
    "**\n",
    "The dataset consists of information obtained from the past shopping behavior of customers who made their last purchases as OmniChannel (both online and offline shopping) between 2009-2010 and 2010-2011.\n",
    "\n",
    "**Features in the Dataset*\n",
    "\n",
    "1. InvoiceNo: Invoice number.\n",
    "2. Unique number for each transaction, i.e. invoice. If it starts with C, the canceled transaction.\n",
    "3. StockCode: Product code. Unique number for each product.\n",
    "4. Description:\n",
    "5. Product name.\n",
    "6. Quantity: This is the quantity of the product. It expresses how many of the products in the invoices were sold.\n",
    "7. InvoiceDate: Invoice date and time.\n",
    "8. UnitPrice: Product price (in pounds sterling).\n",
    "9. CustomerID: Unique customer number.\n",
    "10. Country: Country name. The country where the customer lives.\n"
   ]
  },
  {
   "cell_type": "code",
   "execution_count": 1,
   "id": "3c31c2f8",
   "metadata": {
    "execution": {
     "iopub.execute_input": "2025-02-09T18:03:45.264861Z",
     "iopub.status.busy": "2025-02-09T18:03:45.264403Z",
     "iopub.status.idle": "2025-02-09T18:03:48.309230Z",
     "shell.execute_reply": "2025-02-09T18:03:48.308098Z"
    },
    "papermill": {
     "duration": 3.05765,
     "end_time": "2025-02-09T18:03:48.311617",
     "exception": false,
     "start_time": "2025-02-09T18:03:45.253967",
     "status": "completed"
    },
    "tags": []
   },
   "outputs": [],
   "source": [
    "# Import Libraries\n",
    "import datetime as dt\n",
    "import pandas as pd\n",
    "import matplotlib.pyplot as plt\n",
    "import seaborn as sns\n",
    "pd.set_option('display.float_format', lambda x: '%.3f' % x)"
   ]
  },
  {
   "cell_type": "markdown",
   "id": "eceac0b1",
   "metadata": {
    "papermill": {
     "duration": 0.008078,
     "end_time": "2025-02-09T18:03:48.328727",
     "exception": false,
     "start_time": "2025-02-09T18:03:48.320649",
     "status": "completed"
    },
    "tags": []
   },
   "source": [
    "# Adjusting Row Column Settings"
   ]
  },
  {
   "cell_type": "code",
   "execution_count": 2,
   "id": "a88dcb62",
   "metadata": {
    "execution": {
     "iopub.execute_input": "2025-02-09T18:03:48.346870Z",
     "iopub.status.busy": "2025-02-09T18:03:48.346366Z",
     "iopub.status.idle": "2025-02-09T18:03:48.351210Z",
     "shell.execute_reply": "2025-02-09T18:03:48.350115Z"
    },
    "papermill": {
     "duration": 0.016109,
     "end_time": "2025-02-09T18:03:48.353215",
     "exception": false,
     "start_time": "2025-02-09T18:03:48.337106",
     "status": "completed"
    },
    "tags": []
   },
   "outputs": [],
   "source": [
    "pd.set_option(\"display.max_rows\", None)\n",
    "pd.set_option(\"display.max_columns\", None)\n",
    "pd.set_option(\"display.float_format\", lambda x: '%.2f' % x)"
   ]
  },
  {
   "cell_type": "code",
   "execution_count": 3,
   "id": "2d8eb157",
   "metadata": {
    "execution": {
     "iopub.execute_input": "2025-02-09T18:03:48.371820Z",
     "iopub.status.busy": "2025-02-09T18:03:48.371484Z",
     "iopub.status.idle": "2025-02-09T18:04:50.764260Z",
     "shell.execute_reply": "2025-02-09T18:04:50.763063Z"
    },
    "papermill": {
     "duration": 62.404288,
     "end_time": "2025-02-09T18:04:50.766708",
     "exception": false,
     "start_time": "2025-02-09T18:03:48.362420",
     "status": "completed"
    },
    "tags": []
   },
   "outputs": [],
   "source": [
    "df = pd.read_excel(\"/kaggle/input/rfm-analysis/online_retail_II.xlsx\")\n"
   ]
  },
  {
   "cell_type": "markdown",
   "id": "05042dcb",
   "metadata": {
    "papermill": {
     "duration": 0.007928,
     "end_time": "2025-02-09T18:04:50.783293",
     "exception": false,
     "start_time": "2025-02-09T18:04:50.775365",
     "status": "completed"
    },
    "tags": []
   },
   "source": [
    "# Loading the Data Set"
   ]
  },
  {
   "cell_type": "code",
   "execution_count": 4,
   "id": "c4a0995b",
   "metadata": {
    "execution": {
     "iopub.execute_input": "2025-02-09T18:04:50.802468Z",
     "iopub.status.busy": "2025-02-09T18:04:50.801908Z",
     "iopub.status.idle": "2025-02-09T18:04:50.809234Z",
     "shell.execute_reply": "2025-02-09T18:04:50.807934Z"
    },
    "papermill": {
     "duration": 0.019159,
     "end_time": "2025-02-09T18:04:50.811024",
     "exception": false,
     "start_time": "2025-02-09T18:04:50.791865",
     "status": "completed"
    },
    "tags": []
   },
   "outputs": [
    {
     "data": {
      "text/plain": [
       "(525461, 8)"
      ]
     },
     "execution_count": 4,
     "metadata": {},
     "output_type": "execute_result"
    }
   ],
   "source": [
    "df.shape"
   ]
  },
  {
   "cell_type": "markdown",
   "id": "888c3466",
   "metadata": {
    "papermill": {
     "duration": 0.009133,
     "end_time": "2025-02-09T18:04:50.828984",
     "exception": false,
     "start_time": "2025-02-09T18:04:50.819851",
     "status": "completed"
    },
    "tags": []
   },
   "source": [
    "# Explanatory Data Analysis-EDA"
   ]
  },
  {
   "cell_type": "code",
   "execution_count": 5,
   "id": "a82f8775",
   "metadata": {
    "execution": {
     "iopub.execute_input": "2025-02-09T18:04:50.847610Z",
     "iopub.status.busy": "2025-02-09T18:04:50.847236Z",
     "iopub.status.idle": "2025-02-09T18:04:50.966306Z",
     "shell.execute_reply": "2025-02-09T18:04:50.965276Z"
    },
    "papermill": {
     "duration": 0.130692,
     "end_time": "2025-02-09T18:04:50.968393",
     "exception": false,
     "start_time": "2025-02-09T18:04:50.837701",
     "status": "completed"
    },
    "tags": []
   },
   "outputs": [],
   "source": [
    "def check_df(dataframe, head=10):\n",
    "    print(\"##################### Shape #####################\")\n",
    "    print(dataframe.shape)\n",
    "    print(\"##################### Columns #####################\")\n",
    "    print(dataframe.columns)\n",
    "    print(\"##################### Types #####################\")\n",
    "    print(dataframe.dtypes)\n",
    "    print(\"##################### Head #####################\")\n",
    "    print(dataframe.head(head))\n",
    "    print(\"##################### Tail #####################\")\n",
    "    print(dataframe.tail(head))\n",
    "    print(\"##################### NA #####################\")\n",
    "    print(dataframe.isnull().sum())\n",
    "    print(\"##################### Quantiles #####################\")\n",
    "    print(dataframe.describe([0, 0.05, 0.50, 0.95, 0.99, 1]).T)"
   ]
  },
  {
   "cell_type": "code",
   "execution_count": 6,
   "id": "f955aac7",
   "metadata": {
    "execution": {
     "iopub.execute_input": "2025-02-09T18:04:50.988284Z",
     "iopub.status.busy": "2025-02-09T18:04:50.987797Z",
     "iopub.status.idle": "2025-02-09T18:04:51.224054Z",
     "shell.execute_reply": "2025-02-09T18:04:51.222650Z"
    },
    "papermill": {
     "duration": 0.248785,
     "end_time": "2025-02-09T18:04:51.225986",
     "exception": false,
     "start_time": "2025-02-09T18:04:50.977201",
     "status": "completed"
    },
    "tags": []
   },
   "outputs": [
    {
     "name": "stdout",
     "output_type": "stream",
     "text": [
      "##################### Shape #####################\n",
      "(525461, 8)\n",
      "##################### Columns #####################\n",
      "Index(['Invoice', 'StockCode', 'Description', 'Quantity', 'InvoiceDate',\n",
      "       'Price', 'Customer ID', 'Country'],\n",
      "      dtype='object')\n",
      "##################### Types #####################\n",
      "Invoice                object\n",
      "StockCode              object\n",
      "Description            object\n",
      "Quantity                int64\n",
      "InvoiceDate    datetime64[ns]\n",
      "Price                 float64\n",
      "Customer ID           float64\n",
      "Country                object\n",
      "dtype: object\n",
      "##################### Head #####################\n",
      "  Invoice StockCode                          Description  Quantity  \\\n",
      "0  489434     85048  15CM CHRISTMAS GLASS BALL 20 LIGHTS        12   \n",
      "1  489434    79323P                   PINK CHERRY LIGHTS        12   \n",
      "2  489434    79323W                  WHITE CHERRY LIGHTS        12   \n",
      "3  489434     22041         RECORD FRAME 7\" SINGLE SIZE         48   \n",
      "4  489434     21232       STRAWBERRY CERAMIC TRINKET BOX        24   \n",
      "5  489434     22064           PINK DOUGHNUT TRINKET POT         24   \n",
      "6  489434     21871                  SAVE THE PLANET MUG        24   \n",
      "7  489434     21523   FANCY FONT HOME SWEET HOME DOORMAT        10   \n",
      "8  489435     22350                            CAT BOWL         12   \n",
      "9  489435     22349       DOG BOWL , CHASING BALL DESIGN        12   \n",
      "\n",
      "          InvoiceDate  Price  Customer ID         Country  \n",
      "0 2009-12-01 07:45:00   6.95     13085.00  United Kingdom  \n",
      "1 2009-12-01 07:45:00   6.75     13085.00  United Kingdom  \n",
      "2 2009-12-01 07:45:00   6.75     13085.00  United Kingdom  \n",
      "3 2009-12-01 07:45:00   2.10     13085.00  United Kingdom  \n",
      "4 2009-12-01 07:45:00   1.25     13085.00  United Kingdom  \n",
      "5 2009-12-01 07:45:00   1.65     13085.00  United Kingdom  \n",
      "6 2009-12-01 07:45:00   1.25     13085.00  United Kingdom  \n",
      "7 2009-12-01 07:45:00   5.95     13085.00  United Kingdom  \n",
      "8 2009-12-01 07:46:00   2.55     13085.00  United Kingdom  \n",
      "9 2009-12-01 07:46:00   3.75     13085.00  United Kingdom  \n",
      "##################### Tail #####################\n",
      "       Invoice StockCode                         Description  Quantity  \\\n",
      "525451  538171     22748           POPPY'S PLAYHOUSE KITCHEN         2   \n",
      "525452  538171     22745          POPPY'S PLAYHOUSE BEDROOM          2   \n",
      "525453  538171     22558     CLOTHES PEGS RETROSPOT PACK 24          4   \n",
      "525454  538171     21671        RED SPOT CERAMIC DRAWER KNOB         6   \n",
      "525455  538171     20971    PINK BLUE FELT CRAFT TRINKET BOX         2   \n",
      "525456  538171     22271                FELTCRAFT DOLL ROSIE         2   \n",
      "525457  538171     22750        FELTCRAFT PRINCESS LOLA DOLL         1   \n",
      "525458  538171     22751      FELTCRAFT PRINCESS OLIVIA DOLL         1   \n",
      "525459  538171     20970  PINK FLORAL FELTCRAFT SHOULDER BAG         2   \n",
      "525460  538171     21931              JUMBO STORAGE BAG SUKI         2   \n",
      "\n",
      "               InvoiceDate  Price  Customer ID         Country  \n",
      "525451 2010-12-09 20:01:00   2.10     17530.00  United Kingdom  \n",
      "525452 2010-12-09 20:01:00   2.10     17530.00  United Kingdom  \n",
      "525453 2010-12-09 20:01:00   1.49     17530.00  United Kingdom  \n",
      "525454 2010-12-09 20:01:00   1.25     17530.00  United Kingdom  \n",
      "525455 2010-12-09 20:01:00   1.25     17530.00  United Kingdom  \n",
      "525456 2010-12-09 20:01:00   2.95     17530.00  United Kingdom  \n",
      "525457 2010-12-09 20:01:00   3.75     17530.00  United Kingdom  \n",
      "525458 2010-12-09 20:01:00   3.75     17530.00  United Kingdom  \n",
      "525459 2010-12-09 20:01:00   3.75     17530.00  United Kingdom  \n",
      "525460 2010-12-09 20:01:00   1.95     17530.00  United Kingdom  \n",
      "##################### NA #####################\n",
      "Invoice             0\n",
      "StockCode           0\n",
      "Description      2928\n",
      "Quantity            0\n",
      "InvoiceDate         0\n",
      "Price               0\n",
      "Customer ID    107927\n",
      "Country             0\n",
      "dtype: int64\n",
      "##################### Quantiles #####################\n",
      "                count                           mean                  min  \\\n",
      "Quantity    525461.00                          10.34             -9600.00   \n",
      "InvoiceDate    525461  2010-06-28 11:37:36.845017856  2009-12-01 07:45:00   \n",
      "Price       525461.00                           4.69            -53594.36   \n",
      "Customer ID 417534.00                       15360.65             12346.00   \n",
      "\n",
      "                              0%                   5%                  50%  \\\n",
      "Quantity                -9600.00                 1.00                 3.00   \n",
      "InvoiceDate  2009-12-01 07:45:00  2009-12-13 10:48:00  2010-07-06 09:51:00   \n",
      "Price                  -53594.36                 0.42                 2.10   \n",
      "Customer ID             12346.00             12725.00             15311.00   \n",
      "\n",
      "                             95%                  99%                 100%  \\\n",
      "Quantity                   30.00               120.00             19152.00   \n",
      "InvoiceDate  2010-11-29 15:18:00  2010-12-08 10:40:00  2010-12-09 20:01:00   \n",
      "Price                      10.17                19.95             25111.09   \n",
      "Customer ID             17913.00             18196.00             18287.00   \n",
      "\n",
      "                             max     std  \n",
      "Quantity                19152.00  107.42  \n",
      "InvoiceDate  2010-12-09 20:01:00     NaN  \n",
      "Price                   25111.09  146.13  \n",
      "Customer ID             18287.00 1680.81  \n"
     ]
    }
   ],
   "source": [
    "check_df(df)"
   ]
  },
  {
   "cell_type": "code",
   "execution_count": 7,
   "id": "013344b8",
   "metadata": {
    "_cell_guid": "0b7cc317-7c83-447d-95a6-84277f4cc6aa",
    "_uuid": "9031ef80-3ce9-413c-b93c-8485e43a6329",
    "collapsed": false,
    "execution": {
     "iopub.execute_input": "2025-02-09T18:04:51.244854Z",
     "iopub.status.busy": "2025-02-09T18:04:51.244495Z",
     "iopub.status.idle": "2025-02-09T18:04:51.258917Z",
     "shell.execute_reply": "2025-02-09T18:04:51.257743Z"
    },
    "jupyter": {
     "outputs_hidden": false
    },
    "papermill": {
     "duration": 0.025681,
     "end_time": "2025-02-09T18:04:51.260661",
     "exception": false,
     "start_time": "2025-02-09T18:04:51.234980",
     "status": "completed"
    },
    "tags": []
   },
   "outputs": [
    {
     "data": {
      "text/html": [
       "<div>\n",
       "<style scoped>\n",
       "    .dataframe tbody tr th:only-of-type {\n",
       "        vertical-align: middle;\n",
       "    }\n",
       "\n",
       "    .dataframe tbody tr th {\n",
       "        vertical-align: top;\n",
       "    }\n",
       "\n",
       "    .dataframe thead th {\n",
       "        text-align: right;\n",
       "    }\n",
       "</style>\n",
       "<table border=\"1\" class=\"dataframe\">\n",
       "  <thead>\n",
       "    <tr style=\"text-align: right;\">\n",
       "      <th></th>\n",
       "      <th>Invoice</th>\n",
       "      <th>StockCode</th>\n",
       "      <th>Description</th>\n",
       "      <th>Quantity</th>\n",
       "      <th>InvoiceDate</th>\n",
       "      <th>Price</th>\n",
       "      <th>Customer ID</th>\n",
       "      <th>Country</th>\n",
       "    </tr>\n",
       "  </thead>\n",
       "  <tbody>\n",
       "    <tr>\n",
       "      <th>0</th>\n",
       "      <td>489434</td>\n",
       "      <td>85048</td>\n",
       "      <td>15CM CHRISTMAS GLASS BALL 20 LIGHTS</td>\n",
       "      <td>12</td>\n",
       "      <td>2009-12-01 07:45:00</td>\n",
       "      <td>6.95</td>\n",
       "      <td>13085.00</td>\n",
       "      <td>United Kingdom</td>\n",
       "    </tr>\n",
       "    <tr>\n",
       "      <th>1</th>\n",
       "      <td>489434</td>\n",
       "      <td>79323P</td>\n",
       "      <td>PINK CHERRY LIGHTS</td>\n",
       "      <td>12</td>\n",
       "      <td>2009-12-01 07:45:00</td>\n",
       "      <td>6.75</td>\n",
       "      <td>13085.00</td>\n",
       "      <td>United Kingdom</td>\n",
       "    </tr>\n",
       "    <tr>\n",
       "      <th>2</th>\n",
       "      <td>489434</td>\n",
       "      <td>79323W</td>\n",
       "      <td>WHITE CHERRY LIGHTS</td>\n",
       "      <td>12</td>\n",
       "      <td>2009-12-01 07:45:00</td>\n",
       "      <td>6.75</td>\n",
       "      <td>13085.00</td>\n",
       "      <td>United Kingdom</td>\n",
       "    </tr>\n",
       "    <tr>\n",
       "      <th>3</th>\n",
       "      <td>489434</td>\n",
       "      <td>22041</td>\n",
       "      <td>RECORD FRAME 7\" SINGLE SIZE</td>\n",
       "      <td>48</td>\n",
       "      <td>2009-12-01 07:45:00</td>\n",
       "      <td>2.10</td>\n",
       "      <td>13085.00</td>\n",
       "      <td>United Kingdom</td>\n",
       "    </tr>\n",
       "    <tr>\n",
       "      <th>4</th>\n",
       "      <td>489434</td>\n",
       "      <td>21232</td>\n",
       "      <td>STRAWBERRY CERAMIC TRINKET BOX</td>\n",
       "      <td>24</td>\n",
       "      <td>2009-12-01 07:45:00</td>\n",
       "      <td>1.25</td>\n",
       "      <td>13085.00</td>\n",
       "      <td>United Kingdom</td>\n",
       "    </tr>\n",
       "  </tbody>\n",
       "</table>\n",
       "</div>"
      ],
      "text/plain": [
       "  Invoice StockCode                          Description  Quantity  \\\n",
       "0  489434     85048  15CM CHRISTMAS GLASS BALL 20 LIGHTS        12   \n",
       "1  489434    79323P                   PINK CHERRY LIGHTS        12   \n",
       "2  489434    79323W                  WHITE CHERRY LIGHTS        12   \n",
       "3  489434     22041         RECORD FRAME 7\" SINGLE SIZE         48   \n",
       "4  489434     21232       STRAWBERRY CERAMIC TRINKET BOX        24   \n",
       "\n",
       "          InvoiceDate  Price  Customer ID         Country  \n",
       "0 2009-12-01 07:45:00   6.95     13085.00  United Kingdom  \n",
       "1 2009-12-01 07:45:00   6.75     13085.00  United Kingdom  \n",
       "2 2009-12-01 07:45:00   6.75     13085.00  United Kingdom  \n",
       "3 2009-12-01 07:45:00   2.10     13085.00  United Kingdom  \n",
       "4 2009-12-01 07:45:00   1.25     13085.00  United Kingdom  "
      ]
     },
     "execution_count": 7,
     "metadata": {},
     "output_type": "execute_result"
    }
   ],
   "source": [
    "df.head()"
   ]
  },
  {
   "cell_type": "code",
   "execution_count": 8,
   "id": "d6ed7b78",
   "metadata": {
    "_cell_guid": "ed1d445d-7b6f-4407-ad90-c482fde9be83",
    "_uuid": "424ad16d-b597-461f-929c-b1397a2ac944",
    "collapsed": false,
    "execution": {
     "iopub.execute_input": "2025-02-09T18:04:51.281431Z",
     "iopub.status.busy": "2025-02-09T18:04:51.280994Z",
     "iopub.status.idle": "2025-02-09T18:04:51.286758Z",
     "shell.execute_reply": "2025-02-09T18:04:51.285661Z"
    },
    "jupyter": {
     "outputs_hidden": false
    },
    "papermill": {
     "duration": 0.018971,
     "end_time": "2025-02-09T18:04:51.288635",
     "exception": false,
     "start_time": "2025-02-09T18:04:51.269664",
     "status": "completed"
    },
    "tags": []
   },
   "outputs": [
    {
     "data": {
      "text/plain": [
       "(525461, 8)"
      ]
     },
     "execution_count": 8,
     "metadata": {},
     "output_type": "execute_result"
    }
   ],
   "source": [
    "df.shape"
   ]
  },
  {
   "cell_type": "code",
   "execution_count": 9,
   "id": "6b8c82ce",
   "metadata": {
    "_cell_guid": "fd9aced6-b79e-4943-848a-d1229c022a41",
    "_uuid": "ec73ebd2-67e8-4b38-9a29-21330854cc29",
    "collapsed": false,
    "execution": {
     "iopub.execute_input": "2025-02-09T18:04:51.308372Z",
     "iopub.status.busy": "2025-02-09T18:04:51.307950Z",
     "iopub.status.idle": "2025-02-09T18:04:51.349650Z",
     "shell.execute_reply": "2025-02-09T18:04:51.348453Z"
    },
    "jupyter": {
     "outputs_hidden": false
    },
    "papermill": {
     "duration": 0.053965,
     "end_time": "2025-02-09T18:04:51.351739",
     "exception": false,
     "start_time": "2025-02-09T18:04:51.297774",
     "status": "completed"
    },
    "tags": []
   },
   "outputs": [],
   "source": [
    "df = df[(df['Quantity'] > 0)]"
   ]
  },
  {
   "cell_type": "code",
   "execution_count": 10,
   "id": "0a39c105",
   "metadata": {
    "_cell_guid": "62b17518-639c-4c61-b999-1ec473648110",
    "_uuid": "3715b1c4-4398-44fc-a300-81b6461365cc",
    "collapsed": false,
    "execution": {
     "iopub.execute_input": "2025-02-09T18:04:51.370791Z",
     "iopub.status.busy": "2025-02-09T18:04:51.370427Z",
     "iopub.status.idle": "2025-02-09T18:04:51.517500Z",
     "shell.execute_reply": "2025-02-09T18:04:51.516230Z"
    },
    "jupyter": {
     "outputs_hidden": false
    },
    "papermill": {
     "duration": 0.158547,
     "end_time": "2025-02-09T18:04:51.519323",
     "exception": false,
     "start_time": "2025-02-09T18:04:51.360776",
     "status": "completed"
    },
    "tags": []
   },
   "outputs": [],
   "source": [
    "df.dropna(inplace=True)"
   ]
  },
  {
   "cell_type": "code",
   "execution_count": 11,
   "id": "cac8f8bb",
   "metadata": {
    "_cell_guid": "15d611cc-6d68-4f22-82d3-e43fdbf8e0f2",
    "_uuid": "2aa86f2a-2790-4901-b0cf-b5674d08829b",
    "collapsed": false,
    "execution": {
     "iopub.execute_input": "2025-02-09T18:04:51.539896Z",
     "iopub.status.busy": "2025-02-09T18:04:51.539525Z",
     "iopub.status.idle": "2025-02-09T18:04:51.775775Z",
     "shell.execute_reply": "2025-02-09T18:04:51.774605Z"
    },
    "jupyter": {
     "outputs_hidden": false
    },
    "papermill": {
     "duration": 0.249131,
     "end_time": "2025-02-09T18:04:51.777864",
     "exception": false,
     "start_time": "2025-02-09T18:04:51.528733",
     "status": "completed"
    },
    "tags": []
   },
   "outputs": [],
   "source": [
    "df = df[df[\"Invoice\"].astype(str).str.contains(\"C\")==False]"
   ]
  },
  {
   "cell_type": "markdown",
   "id": "4796e33b",
   "metadata": {
    "papermill": {
     "duration": 0.008685,
     "end_time": "2025-02-09T18:04:51.795515",
     "exception": false,
     "start_time": "2025-02-09T18:04:51.786830",
     "status": "completed"
    },
    "tags": []
   },
   "source": [
    "# Calculating RFM Metrics (Recency, Frequency, Monetary)"
   ]
  },
  {
   "cell_type": "code",
   "execution_count": 12,
   "id": "85717034",
   "metadata": {
    "_cell_guid": "9c964092-7ebe-4fdb-a29c-c909d7dc54d5",
    "_uuid": "2fa1e61b-a365-43a3-bb97-8f80311a7b7e",
    "collapsed": false,
    "execution": {
     "iopub.execute_input": "2025-02-09T18:04:51.814615Z",
     "iopub.status.busy": "2025-02-09T18:04:51.814282Z",
     "iopub.status.idle": "2025-02-09T18:04:51.818740Z",
     "shell.execute_reply": "2025-02-09T18:04:51.817638Z"
    },
    "jupyter": {
     "outputs_hidden": false
    },
    "papermill": {
     "duration": 0.015895,
     "end_time": "2025-02-09T18:04:51.820434",
     "exception": false,
     "start_time": "2025-02-09T18:04:51.804539",
     "status": "completed"
    },
    "tags": []
   },
   "outputs": [],
   "source": [
    "# Present Date (date of analysis)\n",
    "today_date = dt.datetime(2011, 12, 11)"
   ]
  },
  {
   "cell_type": "markdown",
   "id": "aa0204a8",
   "metadata": {
    "papermill": {
     "duration": 0.010273,
     "end_time": "2025-02-09T18:04:51.839675",
     "exception": false,
     "start_time": "2025-02-09T18:04:51.829402",
     "status": "completed"
    },
    "tags": []
   },
   "source": [
    "# Key Metrics Mapping\n",
    "\n",
    "*InvoiceDate => \n",
    "RecencyInvoice => \n",
    "FrequencyTotalPrice => \n",
    "Monetary*\n",
    "****"
   ]
  },
  {
   "cell_type": "code",
   "execution_count": 13,
   "id": "51a5a1b2",
   "metadata": {
    "execution": {
     "iopub.execute_input": "2025-02-09T18:04:51.859751Z",
     "iopub.status.busy": "2025-02-09T18:04:51.859372Z",
     "iopub.status.idle": "2025-02-09T18:04:51.873971Z",
     "shell.execute_reply": "2025-02-09T18:04:51.872790Z"
    },
    "papermill": {
     "duration": 0.027202,
     "end_time": "2025-02-09T18:04:51.875924",
     "exception": false,
     "start_time": "2025-02-09T18:04:51.848722",
     "status": "completed"
    },
    "tags": []
   },
   "outputs": [],
   "source": [
    "# Creation of TotalPrice\n",
    "df[\"TotalPrice\"] = df[\"Quantity\"] * df[\"Price\"]"
   ]
  },
  {
   "cell_type": "code",
   "execution_count": 14,
   "id": "1b45c3dc",
   "metadata": {
    "execution": {
     "iopub.execute_input": "2025-02-09T18:04:51.895173Z",
     "iopub.status.busy": "2025-02-09T18:04:51.894661Z",
     "iopub.status.idle": "2025-02-09T18:04:51.915577Z",
     "shell.execute_reply": "2025-02-09T18:04:51.914328Z"
    },
    "papermill": {
     "duration": 0.032423,
     "end_time": "2025-02-09T18:04:51.917384",
     "exception": false,
     "start_time": "2025-02-09T18:04:51.884961",
     "status": "completed"
    },
    "tags": []
   },
   "outputs": [
    {
     "data": {
      "text/html": [
       "<div>\n",
       "<style scoped>\n",
       "    .dataframe tbody tr th:only-of-type {\n",
       "        vertical-align: middle;\n",
       "    }\n",
       "\n",
       "    .dataframe tbody tr th {\n",
       "        vertical-align: top;\n",
       "    }\n",
       "\n",
       "    .dataframe thead th {\n",
       "        text-align: right;\n",
       "    }\n",
       "</style>\n",
       "<table border=\"1\" class=\"dataframe\">\n",
       "  <thead>\n",
       "    <tr style=\"text-align: right;\">\n",
       "      <th></th>\n",
       "      <th>Invoice</th>\n",
       "      <th>StockCode</th>\n",
       "      <th>Description</th>\n",
       "      <th>Quantity</th>\n",
       "      <th>InvoiceDate</th>\n",
       "      <th>Price</th>\n",
       "      <th>Customer ID</th>\n",
       "      <th>Country</th>\n",
       "      <th>TotalPrice</th>\n",
       "    </tr>\n",
       "  </thead>\n",
       "  <tbody>\n",
       "    <tr>\n",
       "      <th>0</th>\n",
       "      <td>489434</td>\n",
       "      <td>85048</td>\n",
       "      <td>15CM CHRISTMAS GLASS BALL 20 LIGHTS</td>\n",
       "      <td>12</td>\n",
       "      <td>2009-12-01 07:45:00</td>\n",
       "      <td>6.95</td>\n",
       "      <td>13085.00</td>\n",
       "      <td>United Kingdom</td>\n",
       "      <td>83.40</td>\n",
       "    </tr>\n",
       "    <tr>\n",
       "      <th>1</th>\n",
       "      <td>489434</td>\n",
       "      <td>79323P</td>\n",
       "      <td>PINK CHERRY LIGHTS</td>\n",
       "      <td>12</td>\n",
       "      <td>2009-12-01 07:45:00</td>\n",
       "      <td>6.75</td>\n",
       "      <td>13085.00</td>\n",
       "      <td>United Kingdom</td>\n",
       "      <td>81.00</td>\n",
       "    </tr>\n",
       "    <tr>\n",
       "      <th>2</th>\n",
       "      <td>489434</td>\n",
       "      <td>79323W</td>\n",
       "      <td>WHITE CHERRY LIGHTS</td>\n",
       "      <td>12</td>\n",
       "      <td>2009-12-01 07:45:00</td>\n",
       "      <td>6.75</td>\n",
       "      <td>13085.00</td>\n",
       "      <td>United Kingdom</td>\n",
       "      <td>81.00</td>\n",
       "    </tr>\n",
       "    <tr>\n",
       "      <th>3</th>\n",
       "      <td>489434</td>\n",
       "      <td>22041</td>\n",
       "      <td>RECORD FRAME 7\" SINGLE SIZE</td>\n",
       "      <td>48</td>\n",
       "      <td>2009-12-01 07:45:00</td>\n",
       "      <td>2.10</td>\n",
       "      <td>13085.00</td>\n",
       "      <td>United Kingdom</td>\n",
       "      <td>100.80</td>\n",
       "    </tr>\n",
       "    <tr>\n",
       "      <th>4</th>\n",
       "      <td>489434</td>\n",
       "      <td>21232</td>\n",
       "      <td>STRAWBERRY CERAMIC TRINKET BOX</td>\n",
       "      <td>24</td>\n",
       "      <td>2009-12-01 07:45:00</td>\n",
       "      <td>1.25</td>\n",
       "      <td>13085.00</td>\n",
       "      <td>United Kingdom</td>\n",
       "      <td>30.00</td>\n",
       "    </tr>\n",
       "  </tbody>\n",
       "</table>\n",
       "</div>"
      ],
      "text/plain": [
       "  Invoice StockCode                          Description  Quantity  \\\n",
       "0  489434     85048  15CM CHRISTMAS GLASS BALL 20 LIGHTS        12   \n",
       "1  489434    79323P                   PINK CHERRY LIGHTS        12   \n",
       "2  489434    79323W                  WHITE CHERRY LIGHTS        12   \n",
       "3  489434     22041         RECORD FRAME 7\" SINGLE SIZE         48   \n",
       "4  489434     21232       STRAWBERRY CERAMIC TRINKET BOX        24   \n",
       "\n",
       "          InvoiceDate  Price  Customer ID         Country  TotalPrice  \n",
       "0 2009-12-01 07:45:00   6.95     13085.00  United Kingdom       83.40  \n",
       "1 2009-12-01 07:45:00   6.75     13085.00  United Kingdom       81.00  \n",
       "2 2009-12-01 07:45:00   6.75     13085.00  United Kingdom       81.00  \n",
       "3 2009-12-01 07:45:00   2.10     13085.00  United Kingdom      100.80  \n",
       "4 2009-12-01 07:45:00   1.25     13085.00  United Kingdom       30.00  "
      ]
     },
     "execution_count": 14,
     "metadata": {},
     "output_type": "execute_result"
    }
   ],
   "source": [
    "df.head()"
   ]
  },
  {
   "cell_type": "code",
   "execution_count": 15,
   "id": "a7d9431d",
   "metadata": {
    "execution": {
     "iopub.execute_input": "2025-02-09T18:04:51.937833Z",
     "iopub.status.busy": "2025-02-09T18:04:51.937440Z",
     "iopub.status.idle": "2025-02-09T18:04:51.945975Z",
     "shell.execute_reply": "2025-02-09T18:04:51.944618Z"
    },
    "papermill": {
     "duration": 0.02144,
     "end_time": "2025-02-09T18:04:51.948191",
     "exception": false,
     "start_time": "2025-02-09T18:04:51.926751",
     "status": "completed"
    },
    "tags": []
   },
   "outputs": [
    {
     "data": {
      "text/plain": [
       "Timestamp('2010-12-09 20:01:00')"
      ]
     },
     "execution_count": 15,
     "metadata": {},
     "output_type": "execute_result"
    }
   ],
   "source": [
    "df[\"InvoiceDate\"].max()"
   ]
  },
  {
   "cell_type": "code",
   "execution_count": 16,
   "id": "952fb9a8",
   "metadata": {
    "execution": {
     "iopub.execute_input": "2025-02-09T18:04:51.968680Z",
     "iopub.status.busy": "2025-02-09T18:04:51.968266Z",
     "iopub.status.idle": "2025-02-09T18:04:51.974822Z",
     "shell.execute_reply": "2025-02-09T18:04:51.973409Z"
    },
    "papermill": {
     "duration": 0.019028,
     "end_time": "2025-02-09T18:04:51.976650",
     "exception": false,
     "start_time": "2025-02-09T18:04:51.957622",
     "status": "completed"
    },
    "tags": []
   },
   "outputs": [
    {
     "data": {
      "text/plain": [
       "datetime.datetime(2011, 12, 11, 0, 0)"
      ]
     },
     "execution_count": 16,
     "metadata": {},
     "output_type": "execute_result"
    }
   ],
   "source": [
    "today_date"
   ]
  },
  {
   "cell_type": "code",
   "execution_count": 17,
   "id": "967b4527",
   "metadata": {
    "execution": {
     "iopub.execute_input": "2025-02-09T18:04:51.998143Z",
     "iopub.status.busy": "2025-02-09T18:04:51.997709Z",
     "iopub.status.idle": "2025-02-09T18:04:52.919489Z",
     "shell.execute_reply": "2025-02-09T18:04:52.918069Z"
    },
    "papermill": {
     "duration": 0.93498,
     "end_time": "2025-02-09T18:04:52.921649",
     "exception": false,
     "start_time": "2025-02-09T18:04:51.986669",
     "status": "completed"
    },
    "tags": []
   },
   "outputs": [],
   "source": [
    "# Calculating RFM Metrics\n",
    "rfm = df.groupby('Customer ID').agg({'InvoiceDate': lambda InvoiceDate: (today_date - InvoiceDate.max()).days,\n",
    "                                     'Invoice': lambda Invoice: Invoice.nunique(),\n",
    "                                     'TotalPrice': lambda TotalPrice: TotalPrice.sum()})"
   ]
  },
  {
   "cell_type": "code",
   "execution_count": 18,
   "id": "589bca68",
   "metadata": {
    "execution": {
     "iopub.execute_input": "2025-02-09T18:04:52.942509Z",
     "iopub.status.busy": "2025-02-09T18:04:52.942105Z",
     "iopub.status.idle": "2025-02-09T18:04:52.951965Z",
     "shell.execute_reply": "2025-02-09T18:04:52.950685Z"
    },
    "papermill": {
     "duration": 0.022705,
     "end_time": "2025-02-09T18:04:52.953820",
     "exception": false,
     "start_time": "2025-02-09T18:04:52.931115",
     "status": "completed"
    },
    "tags": []
   },
   "outputs": [
    {
     "data": {
      "text/html": [
       "<div>\n",
       "<style scoped>\n",
       "    .dataframe tbody tr th:only-of-type {\n",
       "        vertical-align: middle;\n",
       "    }\n",
       "\n",
       "    .dataframe tbody tr th {\n",
       "        vertical-align: top;\n",
       "    }\n",
       "\n",
       "    .dataframe thead th {\n",
       "        text-align: right;\n",
       "    }\n",
       "</style>\n",
       "<table border=\"1\" class=\"dataframe\">\n",
       "  <thead>\n",
       "    <tr style=\"text-align: right;\">\n",
       "      <th></th>\n",
       "      <th>InvoiceDate</th>\n",
       "      <th>Invoice</th>\n",
       "      <th>TotalPrice</th>\n",
       "    </tr>\n",
       "    <tr>\n",
       "      <th>Customer ID</th>\n",
       "      <th></th>\n",
       "      <th></th>\n",
       "      <th></th>\n",
       "    </tr>\n",
       "  </thead>\n",
       "  <tbody>\n",
       "    <tr>\n",
       "      <th>12346.00</th>\n",
       "      <td>530</td>\n",
       "      <td>11</td>\n",
       "      <td>372.86</td>\n",
       "    </tr>\n",
       "    <tr>\n",
       "      <th>12347.00</th>\n",
       "      <td>368</td>\n",
       "      <td>2</td>\n",
       "      <td>1323.32</td>\n",
       "    </tr>\n",
       "    <tr>\n",
       "      <th>12348.00</th>\n",
       "      <td>439</td>\n",
       "      <td>1</td>\n",
       "      <td>222.16</td>\n",
       "    </tr>\n",
       "    <tr>\n",
       "      <th>12349.00</th>\n",
       "      <td>408</td>\n",
       "      <td>3</td>\n",
       "      <td>2671.14</td>\n",
       "    </tr>\n",
       "    <tr>\n",
       "      <th>12351.00</th>\n",
       "      <td>376</td>\n",
       "      <td>1</td>\n",
       "      <td>300.93</td>\n",
       "    </tr>\n",
       "  </tbody>\n",
       "</table>\n",
       "</div>"
      ],
      "text/plain": [
       "             InvoiceDate  Invoice  TotalPrice\n",
       "Customer ID                                  \n",
       "12346.00             530       11      372.86\n",
       "12347.00             368        2     1323.32\n",
       "12348.00             439        1      222.16\n",
       "12349.00             408        3     2671.14\n",
       "12351.00             376        1      300.93"
      ]
     },
     "execution_count": 18,
     "metadata": {},
     "output_type": "execute_result"
    }
   ],
   "source": [
    "rfm.head()"
   ]
  },
  {
   "cell_type": "code",
   "execution_count": 19,
   "id": "2884a9d7",
   "metadata": {
    "execution": {
     "iopub.execute_input": "2025-02-09T18:04:52.974805Z",
     "iopub.status.busy": "2025-02-09T18:04:52.974440Z",
     "iopub.status.idle": "2025-02-09T18:04:52.979247Z",
     "shell.execute_reply": "2025-02-09T18:04:52.977970Z"
    },
    "papermill": {
     "duration": 0.017195,
     "end_time": "2025-02-09T18:04:52.981222",
     "exception": false,
     "start_time": "2025-02-09T18:04:52.964027",
     "status": "completed"
    },
    "tags": []
   },
   "outputs": [],
   "source": [
    "# Changing column names\n",
    "rfm.columns = ['recency', 'frequency', 'monetary']"
   ]
  },
  {
   "cell_type": "code",
   "execution_count": 20,
   "id": "bebd3333",
   "metadata": {
    "execution": {
     "iopub.execute_input": "2025-02-09T18:04:53.001658Z",
     "iopub.status.busy": "2025-02-09T18:04:53.001318Z",
     "iopub.status.idle": "2025-02-09T18:04:53.011004Z",
     "shell.execute_reply": "2025-02-09T18:04:53.009872Z"
    },
    "papermill": {
     "duration": 0.022124,
     "end_time": "2025-02-09T18:04:53.012893",
     "exception": false,
     "start_time": "2025-02-09T18:04:52.990769",
     "status": "completed"
    },
    "tags": []
   },
   "outputs": [
    {
     "data": {
      "text/html": [
       "<div>\n",
       "<style scoped>\n",
       "    .dataframe tbody tr th:only-of-type {\n",
       "        vertical-align: middle;\n",
       "    }\n",
       "\n",
       "    .dataframe tbody tr th {\n",
       "        vertical-align: top;\n",
       "    }\n",
       "\n",
       "    .dataframe thead th {\n",
       "        text-align: right;\n",
       "    }\n",
       "</style>\n",
       "<table border=\"1\" class=\"dataframe\">\n",
       "  <thead>\n",
       "    <tr style=\"text-align: right;\">\n",
       "      <th></th>\n",
       "      <th>recency</th>\n",
       "      <th>frequency</th>\n",
       "      <th>monetary</th>\n",
       "    </tr>\n",
       "    <tr>\n",
       "      <th>Customer ID</th>\n",
       "      <th></th>\n",
       "      <th></th>\n",
       "      <th></th>\n",
       "    </tr>\n",
       "  </thead>\n",
       "  <tbody>\n",
       "    <tr>\n",
       "      <th>12346.00</th>\n",
       "      <td>530</td>\n",
       "      <td>11</td>\n",
       "      <td>372.86</td>\n",
       "    </tr>\n",
       "    <tr>\n",
       "      <th>12347.00</th>\n",
       "      <td>368</td>\n",
       "      <td>2</td>\n",
       "      <td>1323.32</td>\n",
       "    </tr>\n",
       "    <tr>\n",
       "      <th>12348.00</th>\n",
       "      <td>439</td>\n",
       "      <td>1</td>\n",
       "      <td>222.16</td>\n",
       "    </tr>\n",
       "    <tr>\n",
       "      <th>12349.00</th>\n",
       "      <td>408</td>\n",
       "      <td>3</td>\n",
       "      <td>2671.14</td>\n",
       "    </tr>\n",
       "    <tr>\n",
       "      <th>12351.00</th>\n",
       "      <td>376</td>\n",
       "      <td>1</td>\n",
       "      <td>300.93</td>\n",
       "    </tr>\n",
       "  </tbody>\n",
       "</table>\n",
       "</div>"
      ],
      "text/plain": [
       "             recency  frequency  monetary\n",
       "Customer ID                              \n",
       "12346.00         530         11    372.86\n",
       "12347.00         368          2   1323.32\n",
       "12348.00         439          1    222.16\n",
       "12349.00         408          3   2671.14\n",
       "12351.00         376          1    300.93"
      ]
     },
     "execution_count": 20,
     "metadata": {},
     "output_type": "execute_result"
    }
   ],
   "source": [
    "rfm.head()"
   ]
  },
  {
   "cell_type": "code",
   "execution_count": 21,
   "id": "7a48e717",
   "metadata": {
    "execution": {
     "iopub.execute_input": "2025-02-09T18:04:53.035969Z",
     "iopub.status.busy": "2025-02-09T18:04:53.035585Z",
     "iopub.status.idle": "2025-02-09T18:04:53.041670Z",
     "shell.execute_reply": "2025-02-09T18:04:53.040654Z"
    },
    "papermill": {
     "duration": 0.020327,
     "end_time": "2025-02-09T18:04:53.043649",
     "exception": false,
     "start_time": "2025-02-09T18:04:53.023322",
     "status": "completed"
    },
    "tags": []
   },
   "outputs": [],
   "source": [
    "# Avoiding negative values due to refunds\n",
    "rfm = rfm[rfm[\"monetary\"] > 0]"
   ]
  },
  {
   "cell_type": "markdown",
   "id": "c0663276",
   "metadata": {
    "papermill": {
     "duration": 0.009803,
     "end_time": "2025-02-09T18:04:53.063710",
     "exception": false,
     "start_time": "2025-02-09T18:04:53.053907",
     "status": "completed"
    },
    "tags": []
   },
   "source": [
    "# Calculating RFM Scores (Recency_Score, Frequency_Score, Monetary_Score)"
   ]
  },
  {
   "cell_type": "code",
   "execution_count": 22,
   "id": "a77a75ad",
   "metadata": {
    "execution": {
     "iopub.execute_input": "2025-02-09T18:04:53.084710Z",
     "iopub.status.busy": "2025-02-09T18:04:53.084356Z",
     "iopub.status.idle": "2025-02-09T18:04:53.096008Z",
     "shell.execute_reply": "2025-02-09T18:04:53.094800Z"
    },
    "papermill": {
     "duration": 0.024374,
     "end_time": "2025-02-09T18:04:53.098157",
     "exception": false,
     "start_time": "2025-02-09T18:04:53.073783",
     "status": "completed"
    },
    "tags": []
   },
   "outputs": [],
   "source": [
    "# Calculating Recency_Score\n",
    "rfm[\"recency_score\"] = pd.qcut(rfm['recency'], 5, labels=[5, 4, 3, 2, 1])"
   ]
  },
  {
   "cell_type": "code",
   "execution_count": 23,
   "id": "a70d1615",
   "metadata": {
    "execution": {
     "iopub.execute_input": "2025-02-09T18:04:53.119109Z",
     "iopub.status.busy": "2025-02-09T18:04:53.118615Z",
     "iopub.status.idle": "2025-02-09T18:04:53.129235Z",
     "shell.execute_reply": "2025-02-09T18:04:53.128069Z"
    },
    "papermill": {
     "duration": 0.023082,
     "end_time": "2025-02-09T18:04:53.130954",
     "exception": false,
     "start_time": "2025-02-09T18:04:53.107872",
     "status": "completed"
    },
    "tags": []
   },
   "outputs": [
    {
     "data": {
      "text/html": [
       "<div>\n",
       "<style scoped>\n",
       "    .dataframe tbody tr th:only-of-type {\n",
       "        vertical-align: middle;\n",
       "    }\n",
       "\n",
       "    .dataframe tbody tr th {\n",
       "        vertical-align: top;\n",
       "    }\n",
       "\n",
       "    .dataframe thead th {\n",
       "        text-align: right;\n",
       "    }\n",
       "</style>\n",
       "<table border=\"1\" class=\"dataframe\">\n",
       "  <thead>\n",
       "    <tr style=\"text-align: right;\">\n",
       "      <th></th>\n",
       "      <th>recency</th>\n",
       "      <th>frequency</th>\n",
       "      <th>monetary</th>\n",
       "      <th>recency_score</th>\n",
       "    </tr>\n",
       "    <tr>\n",
       "      <th>Customer ID</th>\n",
       "      <th></th>\n",
       "      <th></th>\n",
       "      <th></th>\n",
       "      <th></th>\n",
       "    </tr>\n",
       "  </thead>\n",
       "  <tbody>\n",
       "    <tr>\n",
       "      <th>12346.00</th>\n",
       "      <td>530</td>\n",
       "      <td>11</td>\n",
       "      <td>372.86</td>\n",
       "      <td>2</td>\n",
       "    </tr>\n",
       "    <tr>\n",
       "      <th>12347.00</th>\n",
       "      <td>368</td>\n",
       "      <td>2</td>\n",
       "      <td>1323.32</td>\n",
       "      <td>5</td>\n",
       "    </tr>\n",
       "    <tr>\n",
       "      <th>12348.00</th>\n",
       "      <td>439</td>\n",
       "      <td>1</td>\n",
       "      <td>222.16</td>\n",
       "      <td>2</td>\n",
       "    </tr>\n",
       "    <tr>\n",
       "      <th>12349.00</th>\n",
       "      <td>408</td>\n",
       "      <td>3</td>\n",
       "      <td>2671.14</td>\n",
       "      <td>3</td>\n",
       "    </tr>\n",
       "    <tr>\n",
       "      <th>12351.00</th>\n",
       "      <td>376</td>\n",
       "      <td>1</td>\n",
       "      <td>300.93</td>\n",
       "      <td>5</td>\n",
       "    </tr>\n",
       "  </tbody>\n",
       "</table>\n",
       "</div>"
      ],
      "text/plain": [
       "             recency  frequency  monetary recency_score\n",
       "Customer ID                                            \n",
       "12346.00         530         11    372.86             2\n",
       "12347.00         368          2   1323.32             5\n",
       "12348.00         439          1    222.16             2\n",
       "12349.00         408          3   2671.14             3\n",
       "12351.00         376          1    300.93             5"
      ]
     },
     "execution_count": 23,
     "metadata": {},
     "output_type": "execute_result"
    }
   ],
   "source": [
    "rfm.head()"
   ]
  },
  {
   "cell_type": "code",
   "execution_count": 24,
   "id": "7538a7c8",
   "metadata": {
    "execution": {
     "iopub.execute_input": "2025-02-09T18:04:53.152581Z",
     "iopub.status.busy": "2025-02-09T18:04:53.152248Z",
     "iopub.status.idle": "2025-02-09T18:04:53.161622Z",
     "shell.execute_reply": "2025-02-09T18:04:53.160605Z"
    },
    "papermill": {
     "duration": 0.022123,
     "end_time": "2025-02-09T18:04:53.163579",
     "exception": false,
     "start_time": "2025-02-09T18:04:53.141456",
     "status": "completed"
    },
    "tags": []
   },
   "outputs": [],
   "source": [
    "# Calculating Frequency_Score\n",
    "rfm[\"frequency_score\"] = pd.qcut(rfm['frequency'].rank(method=\"first\"), 5, labels=[1, 2, 3, 4, 5])"
   ]
  },
  {
   "cell_type": "code",
   "execution_count": 25,
   "id": "9fa4081d",
   "metadata": {
    "execution": {
     "iopub.execute_input": "2025-02-09T18:04:53.185745Z",
     "iopub.status.busy": "2025-02-09T18:04:53.185397Z",
     "iopub.status.idle": "2025-02-09T18:04:53.196020Z",
     "shell.execute_reply": "2025-02-09T18:04:53.195003Z"
    },
    "papermill": {
     "duration": 0.023266,
     "end_time": "2025-02-09T18:04:53.197865",
     "exception": false,
     "start_time": "2025-02-09T18:04:53.174599",
     "status": "completed"
    },
    "tags": []
   },
   "outputs": [
    {
     "data": {
      "text/html": [
       "<div>\n",
       "<style scoped>\n",
       "    .dataframe tbody tr th:only-of-type {\n",
       "        vertical-align: middle;\n",
       "    }\n",
       "\n",
       "    .dataframe tbody tr th {\n",
       "        vertical-align: top;\n",
       "    }\n",
       "\n",
       "    .dataframe thead th {\n",
       "        text-align: right;\n",
       "    }\n",
       "</style>\n",
       "<table border=\"1\" class=\"dataframe\">\n",
       "  <thead>\n",
       "    <tr style=\"text-align: right;\">\n",
       "      <th></th>\n",
       "      <th>recency</th>\n",
       "      <th>frequency</th>\n",
       "      <th>monetary</th>\n",
       "      <th>recency_score</th>\n",
       "      <th>frequency_score</th>\n",
       "    </tr>\n",
       "    <tr>\n",
       "      <th>Customer ID</th>\n",
       "      <th></th>\n",
       "      <th></th>\n",
       "      <th></th>\n",
       "      <th></th>\n",
       "      <th></th>\n",
       "    </tr>\n",
       "  </thead>\n",
       "  <tbody>\n",
       "    <tr>\n",
       "      <th>12346.00</th>\n",
       "      <td>530</td>\n",
       "      <td>11</td>\n",
       "      <td>372.86</td>\n",
       "      <td>2</td>\n",
       "      <td>5</td>\n",
       "    </tr>\n",
       "    <tr>\n",
       "      <th>12347.00</th>\n",
       "      <td>368</td>\n",
       "      <td>2</td>\n",
       "      <td>1323.32</td>\n",
       "      <td>5</td>\n",
       "      <td>2</td>\n",
       "    </tr>\n",
       "    <tr>\n",
       "      <th>12348.00</th>\n",
       "      <td>439</td>\n",
       "      <td>1</td>\n",
       "      <td>222.16</td>\n",
       "      <td>2</td>\n",
       "      <td>1</td>\n",
       "    </tr>\n",
       "    <tr>\n",
       "      <th>12349.00</th>\n",
       "      <td>408</td>\n",
       "      <td>3</td>\n",
       "      <td>2671.14</td>\n",
       "      <td>3</td>\n",
       "      <td>3</td>\n",
       "    </tr>\n",
       "    <tr>\n",
       "      <th>12351.00</th>\n",
       "      <td>376</td>\n",
       "      <td>1</td>\n",
       "      <td>300.93</td>\n",
       "      <td>5</td>\n",
       "      <td>1</td>\n",
       "    </tr>\n",
       "  </tbody>\n",
       "</table>\n",
       "</div>"
      ],
      "text/plain": [
       "             recency  frequency  monetary recency_score frequency_score\n",
       "Customer ID                                                            \n",
       "12346.00         530         11    372.86             2               5\n",
       "12347.00         368          2   1323.32             5               2\n",
       "12348.00         439          1    222.16             2               1\n",
       "12349.00         408          3   2671.14             3               3\n",
       "12351.00         376          1    300.93             5               1"
      ]
     },
     "execution_count": 25,
     "metadata": {},
     "output_type": "execute_result"
    }
   ],
   "source": [
    "rfm.head()"
   ]
  },
  {
   "cell_type": "code",
   "execution_count": 26,
   "id": "62283ad3",
   "metadata": {
    "execution": {
     "iopub.execute_input": "2025-02-09T18:04:53.220531Z",
     "iopub.status.busy": "2025-02-09T18:04:53.220159Z",
     "iopub.status.idle": "2025-02-09T18:04:53.228789Z",
     "shell.execute_reply": "2025-02-09T18:04:53.227647Z"
    },
    "papermill": {
     "duration": 0.022757,
     "end_time": "2025-02-09T18:04:53.230806",
     "exception": false,
     "start_time": "2025-02-09T18:04:53.208049",
     "status": "completed"
    },
    "tags": []
   },
   "outputs": [],
   "source": [
    "# Calculating Monetary_Score\n",
    "rfm[\"monetary_score\"] = pd.qcut(rfm['monetary'], 5, labels=[1, 2, 3, 4, 5])"
   ]
  },
  {
   "cell_type": "code",
   "execution_count": 27,
   "id": "cb697398",
   "metadata": {
    "execution": {
     "iopub.execute_input": "2025-02-09T18:04:53.253255Z",
     "iopub.status.busy": "2025-02-09T18:04:53.252869Z",
     "iopub.status.idle": "2025-02-09T18:04:53.265445Z",
     "shell.execute_reply": "2025-02-09T18:04:53.264111Z"
    },
    "papermill": {
     "duration": 0.026229,
     "end_time": "2025-02-09T18:04:53.267661",
     "exception": false,
     "start_time": "2025-02-09T18:04:53.241432",
     "status": "completed"
    },
    "tags": []
   },
   "outputs": [
    {
     "data": {
      "text/html": [
       "<div>\n",
       "<style scoped>\n",
       "    .dataframe tbody tr th:only-of-type {\n",
       "        vertical-align: middle;\n",
       "    }\n",
       "\n",
       "    .dataframe tbody tr th {\n",
       "        vertical-align: top;\n",
       "    }\n",
       "\n",
       "    .dataframe thead th {\n",
       "        text-align: right;\n",
       "    }\n",
       "</style>\n",
       "<table border=\"1\" class=\"dataframe\">\n",
       "  <thead>\n",
       "    <tr style=\"text-align: right;\">\n",
       "      <th></th>\n",
       "      <th>recency</th>\n",
       "      <th>frequency</th>\n",
       "      <th>monetary</th>\n",
       "      <th>recency_score</th>\n",
       "      <th>frequency_score</th>\n",
       "      <th>monetary_score</th>\n",
       "    </tr>\n",
       "    <tr>\n",
       "      <th>Customer ID</th>\n",
       "      <th></th>\n",
       "      <th></th>\n",
       "      <th></th>\n",
       "      <th></th>\n",
       "      <th></th>\n",
       "      <th></th>\n",
       "    </tr>\n",
       "  </thead>\n",
       "  <tbody>\n",
       "    <tr>\n",
       "      <th>12346.00</th>\n",
       "      <td>530</td>\n",
       "      <td>11</td>\n",
       "      <td>372.86</td>\n",
       "      <td>2</td>\n",
       "      <td>5</td>\n",
       "      <td>2</td>\n",
       "    </tr>\n",
       "    <tr>\n",
       "      <th>12347.00</th>\n",
       "      <td>368</td>\n",
       "      <td>2</td>\n",
       "      <td>1323.32</td>\n",
       "      <td>5</td>\n",
       "      <td>2</td>\n",
       "      <td>4</td>\n",
       "    </tr>\n",
       "    <tr>\n",
       "      <th>12348.00</th>\n",
       "      <td>439</td>\n",
       "      <td>1</td>\n",
       "      <td>222.16</td>\n",
       "      <td>2</td>\n",
       "      <td>1</td>\n",
       "      <td>1</td>\n",
       "    </tr>\n",
       "    <tr>\n",
       "      <th>12349.00</th>\n",
       "      <td>408</td>\n",
       "      <td>3</td>\n",
       "      <td>2671.14</td>\n",
       "      <td>3</td>\n",
       "      <td>3</td>\n",
       "      <td>5</td>\n",
       "    </tr>\n",
       "    <tr>\n",
       "      <th>12351.00</th>\n",
       "      <td>376</td>\n",
       "      <td>1</td>\n",
       "      <td>300.93</td>\n",
       "      <td>5</td>\n",
       "      <td>1</td>\n",
       "      <td>2</td>\n",
       "    </tr>\n",
       "  </tbody>\n",
       "</table>\n",
       "</div>"
      ],
      "text/plain": [
       "             recency  frequency  monetary recency_score frequency_score  \\\n",
       "Customer ID                                                               \n",
       "12346.00         530         11    372.86             2               5   \n",
       "12347.00         368          2   1323.32             5               2   \n",
       "12348.00         439          1    222.16             2               1   \n",
       "12349.00         408          3   2671.14             3               3   \n",
       "12351.00         376          1    300.93             5               1   \n",
       "\n",
       "            monetary_score  \n",
       "Customer ID                 \n",
       "12346.00                 2  \n",
       "12347.00                 4  \n",
       "12348.00                 1  \n",
       "12349.00                 5  \n",
       "12351.00                 2  "
      ]
     },
     "execution_count": 27,
     "metadata": {},
     "output_type": "execute_result"
    }
   ],
   "source": [
    "rfm.head()"
   ]
  },
  {
   "cell_type": "code",
   "execution_count": 28,
   "id": "e5e864bb",
   "metadata": {
    "execution": {
     "iopub.execute_input": "2025-02-09T18:04:53.290647Z",
     "iopub.status.busy": "2025-02-09T18:04:53.290305Z",
     "iopub.status.idle": "2025-02-09T18:04:53.298019Z",
     "shell.execute_reply": "2025-02-09T18:04:53.296954Z"
    },
    "papermill": {
     "duration": 0.021646,
     "end_time": "2025-02-09T18:04:53.300296",
     "exception": false,
     "start_time": "2025-02-09T18:04:53.278650",
     "status": "completed"
    },
    "tags": []
   },
   "outputs": [],
   "source": [
    "# Creating RFM_SSCORE VARIABLE\n",
    "rfm[\"RFM_SCORE\"] = (rfm['recency_score'].astype(str) +\n",
    "                    rfm['frequency_score'].astype(str))"
   ]
  },
  {
   "cell_type": "code",
   "execution_count": 29,
   "id": "2d8c48cf",
   "metadata": {
    "execution": {
     "iopub.execute_input": "2025-02-09T18:04:53.322845Z",
     "iopub.status.busy": "2025-02-09T18:04:53.322521Z",
     "iopub.status.idle": "2025-02-09T18:04:53.334247Z",
     "shell.execute_reply": "2025-02-09T18:04:53.333206Z"
    },
    "papermill": {
     "duration": 0.025111,
     "end_time": "2025-02-09T18:04:53.335849",
     "exception": false,
     "start_time": "2025-02-09T18:04:53.310738",
     "status": "completed"
    },
    "tags": []
   },
   "outputs": [
    {
     "data": {
      "text/html": [
       "<div>\n",
       "<style scoped>\n",
       "    .dataframe tbody tr th:only-of-type {\n",
       "        vertical-align: middle;\n",
       "    }\n",
       "\n",
       "    .dataframe tbody tr th {\n",
       "        vertical-align: top;\n",
       "    }\n",
       "\n",
       "    .dataframe thead th {\n",
       "        text-align: right;\n",
       "    }\n",
       "</style>\n",
       "<table border=\"1\" class=\"dataframe\">\n",
       "  <thead>\n",
       "    <tr style=\"text-align: right;\">\n",
       "      <th></th>\n",
       "      <th>recency</th>\n",
       "      <th>frequency</th>\n",
       "      <th>monetary</th>\n",
       "      <th>recency_score</th>\n",
       "      <th>frequency_score</th>\n",
       "      <th>monetary_score</th>\n",
       "      <th>RFM_SCORE</th>\n",
       "    </tr>\n",
       "    <tr>\n",
       "      <th>Customer ID</th>\n",
       "      <th></th>\n",
       "      <th></th>\n",
       "      <th></th>\n",
       "      <th></th>\n",
       "      <th></th>\n",
       "      <th></th>\n",
       "      <th></th>\n",
       "    </tr>\n",
       "  </thead>\n",
       "  <tbody>\n",
       "    <tr>\n",
       "      <th>12346.00</th>\n",
       "      <td>530</td>\n",
       "      <td>11</td>\n",
       "      <td>372.86</td>\n",
       "      <td>2</td>\n",
       "      <td>5</td>\n",
       "      <td>2</td>\n",
       "      <td>25</td>\n",
       "    </tr>\n",
       "    <tr>\n",
       "      <th>12347.00</th>\n",
       "      <td>368</td>\n",
       "      <td>2</td>\n",
       "      <td>1323.32</td>\n",
       "      <td>5</td>\n",
       "      <td>2</td>\n",
       "      <td>4</td>\n",
       "      <td>52</td>\n",
       "    </tr>\n",
       "    <tr>\n",
       "      <th>12348.00</th>\n",
       "      <td>439</td>\n",
       "      <td>1</td>\n",
       "      <td>222.16</td>\n",
       "      <td>2</td>\n",
       "      <td>1</td>\n",
       "      <td>1</td>\n",
       "      <td>21</td>\n",
       "    </tr>\n",
       "    <tr>\n",
       "      <th>12349.00</th>\n",
       "      <td>408</td>\n",
       "      <td>3</td>\n",
       "      <td>2671.14</td>\n",
       "      <td>3</td>\n",
       "      <td>3</td>\n",
       "      <td>5</td>\n",
       "      <td>33</td>\n",
       "    </tr>\n",
       "    <tr>\n",
       "      <th>12351.00</th>\n",
       "      <td>376</td>\n",
       "      <td>1</td>\n",
       "      <td>300.93</td>\n",
       "      <td>5</td>\n",
       "      <td>1</td>\n",
       "      <td>2</td>\n",
       "      <td>51</td>\n",
       "    </tr>\n",
       "  </tbody>\n",
       "</table>\n",
       "</div>"
      ],
      "text/plain": [
       "             recency  frequency  monetary recency_score frequency_score  \\\n",
       "Customer ID                                                               \n",
       "12346.00         530         11    372.86             2               5   \n",
       "12347.00         368          2   1323.32             5               2   \n",
       "12348.00         439          1    222.16             2               1   \n",
       "12349.00         408          3   2671.14             3               3   \n",
       "12351.00         376          1    300.93             5               1   \n",
       "\n",
       "            monetary_score RFM_SCORE  \n",
       "Customer ID                           \n",
       "12346.00                 2        25  \n",
       "12347.00                 4        52  \n",
       "12348.00                 1        21  \n",
       "12349.00                 5        33  \n",
       "12351.00                 2        51  "
      ]
     },
     "execution_count": 29,
     "metadata": {},
     "output_type": "execute_result"
    }
   ],
   "source": [
    "rfm.head()"
   ]
  },
  {
   "cell_type": "markdown",
   "id": "39d1f2d3",
   "metadata": {
    "papermill": {
     "duration": 0.010332,
     "end_time": "2025-02-09T18:04:53.356985",
     "exception": false,
     "start_time": "2025-02-09T18:04:53.346653",
     "status": "completed"
    },
    "tags": []
   },
   "source": [
    "# Creating & Analysing RFM Segments"
   ]
  },
  {
   "cell_type": "markdown",
   "id": "a5cfe841",
   "metadata": {
    "papermill": {
     "duration": 0.010242,
     "end_time": "2025-02-09T18:04:53.377840",
     "exception": false,
     "start_time": "2025-02-09T18:04:53.367598",
     "status": "completed"
    },
    "tags": []
   },
   "source": [
    "https://cdn3.notifyvisitors.com/blog/wp-content/uploads/2021/08/Customer-Segmentation-Using-RFM-Analysis.jpg**"
   ]
  },
  {
   "cell_type": "markdown",
   "id": "444dff49",
   "metadata": {
    "papermill": {
     "duration": 0.010012,
     "end_time": "2025-02-09T18:04:53.398188",
     "exception": false,
     "start_time": "2025-02-09T18:04:53.388176",
     "status": "completed"
    },
    "tags": []
   },
   "source": [
    "# **RFM Segments\n",
    "\n",
    "Champions: The best customers, who bought most recently, most often, and are heavy spenders. Reward these customers. They can be the first to buy new products.\n",
    "\n",
    "Potential Loyalists: The recent customers with average frequency and who spent a good amount. You can make them your Loyalists or Champions by offering membership or loyalty programs or recommending related products.\n",
    "\n",
    "New Customers: Customers who have a high overall RFM score but are not frequent shoppers. Special offers can be provided to increase their visits.\n",
    "\n",
    "At Risk Customers: Customers who purchased often and spent big amounts, but haven’t purchased recently. Personalized deals and product/service recommendations can help reactivate them.\n",
    "\n",
    "Can’t Lose Them: Customers who used to visit and purchase quite often, but haven’t been visiting recently. Get them to revisit with relevant promotions and conduct surveys to find out what went wrong.**"
   ]
  },
  {
   "cell_type": "code",
   "execution_count": 30,
   "id": "0cda8ade",
   "metadata": {
    "execution": {
     "iopub.execute_input": "2025-02-09T18:04:53.420496Z",
     "iopub.status.busy": "2025-02-09T18:04:53.420074Z",
     "iopub.status.idle": "2025-02-09T18:04:53.425420Z",
     "shell.execute_reply": "2025-02-09T18:04:53.423987Z"
    },
    "papermill": {
     "duration": 0.019441,
     "end_time": "2025-02-09T18:04:53.427843",
     "exception": false,
     "start_time": "2025-02-09T18:04:53.408402",
     "status": "completed"
    },
    "tags": []
   },
   "outputs": [],
   "source": [
    "# Creation of a segment map\n",
    "seg_map = {\n",
    "    r'[1-2][1-2]': 'hibernating',\n",
    "    r'[1-2][3-4]': 'at_Risk',\n",
    "    r'[1-2]5': 'cant_loose',\n",
    "    r'3[1-2]': 'about_to_sleep',\n",
    "    r'33': 'need_attention',\n",
    "    r'[3-4][4-5]': 'loyal_customers',\n",
    "    r'41': 'promising',\n",
    "    r'51': 'new_customers',\n",
    "    r'[4-5][2-3]': 'potential_loyalists',\n",
    "    r'5[4-5]': 'champions'\n",
    "}"
   ]
  },
  {
   "cell_type": "markdown",
   "id": "52862b70",
   "metadata": {
    "papermill": {
     "duration": 0.011162,
     "end_time": "2025-02-09T18:04:53.450066",
     "exception": false,
     "start_time": "2025-02-09T18:04:53.438904",
     "status": "completed"
    },
    "tags": []
   },
   "source": [
    "[<iframe src=\"https://www.kaggle.com/embed/mehmetisik/rfm-analysis-1?cellIds=51&kernelSessionId=220118352\" height=\"300\" style=\"margin: 0 auto; width: 100%; max-width: 950px;\" frameborder=\"0\" scrolling=\"auto\" title=\"RFM Analysis - 1\"></iframe>](http://)"
   ]
  },
  {
   "cell_type": "code",
   "execution_count": 31,
   "id": "93d82616",
   "metadata": {
    "execution": {
     "iopub.execute_input": "2025-02-09T18:04:53.476142Z",
     "iopub.status.busy": "2025-02-09T18:04:53.475731Z",
     "iopub.status.idle": "2025-02-09T18:04:53.534804Z",
     "shell.execute_reply": "2025-02-09T18:04:53.533002Z"
    },
    "papermill": {
     "duration": 0.074047,
     "end_time": "2025-02-09T18:04:53.537041",
     "exception": false,
     "start_time": "2025-02-09T18:04:53.462994",
     "status": "completed"
    },
    "tags": []
   },
   "outputs": [],
   "source": [
    "# creating segment variable\n",
    "rfm['segment'] = rfm['RFM_SCORE'].replace(seg_map, regex=True)"
   ]
  },
  {
   "cell_type": "code",
   "execution_count": 32,
   "id": "81276533",
   "metadata": {
    "execution": {
     "iopub.execute_input": "2025-02-09T18:04:53.560327Z",
     "iopub.status.busy": "2025-02-09T18:04:53.559944Z",
     "iopub.status.idle": "2025-02-09T18:04:53.573652Z",
     "shell.execute_reply": "2025-02-09T18:04:53.572248Z"
    },
    "papermill": {
     "duration": 0.027433,
     "end_time": "2025-02-09T18:04:53.575712",
     "exception": false,
     "start_time": "2025-02-09T18:04:53.548279",
     "status": "completed"
    },
    "tags": []
   },
   "outputs": [
    {
     "data": {
      "text/html": [
       "<div>\n",
       "<style scoped>\n",
       "    .dataframe tbody tr th:only-of-type {\n",
       "        vertical-align: middle;\n",
       "    }\n",
       "\n",
       "    .dataframe tbody tr th {\n",
       "        vertical-align: top;\n",
       "    }\n",
       "\n",
       "    .dataframe thead th {\n",
       "        text-align: right;\n",
       "    }\n",
       "</style>\n",
       "<table border=\"1\" class=\"dataframe\">\n",
       "  <thead>\n",
       "    <tr style=\"text-align: right;\">\n",
       "      <th></th>\n",
       "      <th>recency</th>\n",
       "      <th>frequency</th>\n",
       "      <th>monetary</th>\n",
       "      <th>recency_score</th>\n",
       "      <th>frequency_score</th>\n",
       "      <th>monetary_score</th>\n",
       "      <th>RFM_SCORE</th>\n",
       "      <th>segment</th>\n",
       "    </tr>\n",
       "    <tr>\n",
       "      <th>Customer ID</th>\n",
       "      <th></th>\n",
       "      <th></th>\n",
       "      <th></th>\n",
       "      <th></th>\n",
       "      <th></th>\n",
       "      <th></th>\n",
       "      <th></th>\n",
       "      <th></th>\n",
       "    </tr>\n",
       "  </thead>\n",
       "  <tbody>\n",
       "    <tr>\n",
       "      <th>12346.00</th>\n",
       "      <td>530</td>\n",
       "      <td>11</td>\n",
       "      <td>372.86</td>\n",
       "      <td>2</td>\n",
       "      <td>5</td>\n",
       "      <td>2</td>\n",
       "      <td>25</td>\n",
       "      <td>cant_loose</td>\n",
       "    </tr>\n",
       "    <tr>\n",
       "      <th>12347.00</th>\n",
       "      <td>368</td>\n",
       "      <td>2</td>\n",
       "      <td>1323.32</td>\n",
       "      <td>5</td>\n",
       "      <td>2</td>\n",
       "      <td>4</td>\n",
       "      <td>52</td>\n",
       "      <td>potential_loyalists</td>\n",
       "    </tr>\n",
       "    <tr>\n",
       "      <th>12348.00</th>\n",
       "      <td>439</td>\n",
       "      <td>1</td>\n",
       "      <td>222.16</td>\n",
       "      <td>2</td>\n",
       "      <td>1</td>\n",
       "      <td>1</td>\n",
       "      <td>21</td>\n",
       "      <td>hibernating</td>\n",
       "    </tr>\n",
       "    <tr>\n",
       "      <th>12349.00</th>\n",
       "      <td>408</td>\n",
       "      <td>3</td>\n",
       "      <td>2671.14</td>\n",
       "      <td>3</td>\n",
       "      <td>3</td>\n",
       "      <td>5</td>\n",
       "      <td>33</td>\n",
       "      <td>need_attention</td>\n",
       "    </tr>\n",
       "    <tr>\n",
       "      <th>12351.00</th>\n",
       "      <td>376</td>\n",
       "      <td>1</td>\n",
       "      <td>300.93</td>\n",
       "      <td>5</td>\n",
       "      <td>1</td>\n",
       "      <td>2</td>\n",
       "      <td>51</td>\n",
       "      <td>new_customers</td>\n",
       "    </tr>\n",
       "  </tbody>\n",
       "</table>\n",
       "</div>"
      ],
      "text/plain": [
       "             recency  frequency  monetary recency_score frequency_score  \\\n",
       "Customer ID                                                               \n",
       "12346.00         530         11    372.86             2               5   \n",
       "12347.00         368          2   1323.32             5               2   \n",
       "12348.00         439          1    222.16             2               1   \n",
       "12349.00         408          3   2671.14             3               3   \n",
       "12351.00         376          1    300.93             5               1   \n",
       "\n",
       "            monetary_score RFM_SCORE              segment  \n",
       "Customer ID                                                \n",
       "12346.00                 2        25           cant_loose  \n",
       "12347.00                 4        52  potential_loyalists  \n",
       "12348.00                 1        21          hibernating  \n",
       "12349.00                 5        33       need_attention  \n",
       "12351.00                 2        51        new_customers  "
      ]
     },
     "execution_count": 32,
     "metadata": {},
     "output_type": "execute_result"
    }
   ],
   "source": [
    "rfm.head()"
   ]
  },
  {
   "cell_type": "code",
   "execution_count": 33,
   "id": "737f19cb",
   "metadata": {
    "execution": {
     "iopub.execute_input": "2025-02-09T18:04:53.598637Z",
     "iopub.status.busy": "2025-02-09T18:04:53.598288Z",
     "iopub.status.idle": "2025-02-09T18:04:53.604466Z",
     "shell.execute_reply": "2025-02-09T18:04:53.603227Z"
    },
    "papermill": {
     "duration": 0.019868,
     "end_time": "2025-02-09T18:04:53.606446",
     "exception": false,
     "start_time": "2025-02-09T18:04:53.586578",
     "status": "completed"
    },
    "tags": []
   },
   "outputs": [
    {
     "data": {
      "text/plain": [
       "(4312, 8)"
      ]
     },
     "execution_count": 33,
     "metadata": {},
     "output_type": "execute_result"
    }
   ],
   "source": [
    "rfm.shape"
   ]
  },
  {
   "cell_type": "code",
   "execution_count": 34,
   "id": "dc559d86",
   "metadata": {
    "execution": {
     "iopub.execute_input": "2025-02-09T18:04:53.630002Z",
     "iopub.status.busy": "2025-02-09T18:04:53.629668Z",
     "iopub.status.idle": "2025-02-09T18:04:54.019952Z",
     "shell.execute_reply": "2025-02-09T18:04:54.018594Z"
    },
    "papermill": {
     "duration": 0.404656,
     "end_time": "2025-02-09T18:04:54.021939",
     "exception": false,
     "start_time": "2025-02-09T18:04:53.617283",
     "status": "completed"
    },
    "tags": []
   },
   "outputs": [
    {
     "data": {
      "image/png": "[encoded data removed]",
      "text/plain": [
       "<Figure size 1600x800 with 1 Axes>"
      ]
     },
     "metadata": {},
     "output_type": "display_data"
    }
   ],
   "source": [
    "# Segment Distribution\n",
    "segment_counts = rfm['segment'].value_counts()\n",
    "plt.figure(figsize=(16, 8))\n",
    "sns.barplot(x=segment_counts.index, y=segment_counts.values)\n",
    "plt.title('Segment Distribution')\n",
    "plt.xlabel('Segment')\n",
    "plt.ylabel('Customer Count')\n",
    "plt.xticks(rotation=45)\n",
    "plt.show()"
   ]
  }
 ],
 "metadata": {
  "kaggle": {
   "accelerator": "none",
   "dataSources": [
    {
     "datasetId": 6595540,
     "sourceId": 10651361,
     "sourceType": "datasetVersion"
    }
   ],
   "dockerImageVersionId": 30839,
   "isGpuEnabled": false,
   "isInternetEnabled": false,
   "language": "python",
   "sourceType": "notebook"
  },
  "kernelspec": {
   "display_name": "Python 3",
   "language": "python",
   "name": "python3"
  },
  "language_info": {
   "codemirror_mode": {
    "name": "ipython",
    "version": 3
   },
   "file_extension": ".py",
   "mimetype": "text/x-python",
   "name": "python",
   "nbconvert_exporter": "python",
   "pygments_lexer": "ipython3",
   "version": "3.10.12"
  },
  "papermill": {
   "default_parameters": {},
   "duration": 72.838116,
   "end_time": "2025-02-09T18:04:54.856492",
   "environment_variables": {},
   "exception": null,
   "input_path": "__notebook__.ipynb",
   "output_path": "__notebook__.ipynb",
   "parameters": {},
   "start_time": "2025-02-09T18:03:42.018376",
   "version": "2.6.0"
  }
 },
 "nbformat": 4,
 "nbformat_minor": 5
}
